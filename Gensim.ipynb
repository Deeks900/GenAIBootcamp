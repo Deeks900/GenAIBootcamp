{
  "nbformat": 4,
  "nbformat_minor": 0,
  "metadata": {
    "colab": {
      "provenance": [],
      "include_colab_link": true
    },
    "kernelspec": {
      "name": "python3",
      "display_name": "Python 3"
    },
    "language_info": {
      "name": "python"
    }
  },
  "cells": [
    {
      "cell_type": "markdown",
      "metadata": {
        "id": "view-in-github",
        "colab_type": "text"
      },
      "source": [
        "<a href=\"https://colab.research.google.com/github/Deeks900/GenAIBootcamp/blob/main/Gensim.ipynb\" target=\"_parent\"><img src=\"https://colab.research.google.com/assets/colab-badge.svg\" alt=\"Open In Colab\"/></a>"
      ]
    },
    {
      "cell_type": "code",
      "source": [
        "!pip install gensim 'numpy<1.26'"
      ],
      "metadata": {
        "colab": {
          "base_uri": "https://localhost:8080/",
          "height": 670
        },
        "id": "i2eY9Ie67ORX",
        "outputId": "49cd9fff-e663-4cbb-d7d9-51494aaf0a4f"
      },
      "execution_count": 1,
      "outputs": [
        {
          "output_type": "stream",
          "name": "stdout",
          "text": [
            "Collecting gensim\n",
            "  Downloading gensim-4.3.3-cp311-cp311-manylinux_2_17_x86_64.manylinux2014_x86_64.whl.metadata (8.1 kB)\n",
            "Collecting numpy<1.26\n",
            "  Downloading numpy-1.25.2-cp311-cp311-manylinux_2_17_x86_64.manylinux2014_x86_64.whl.metadata (5.6 kB)\n",
            "Collecting scipy<1.14.0,>=1.7.0 (from gensim)\n",
            "  Downloading scipy-1.13.1-cp311-cp311-manylinux_2_17_x86_64.manylinux2014_x86_64.whl.metadata (60 kB)\n",
            "\u001b[2K     \u001b[90m━━━━━━━━━━━━━━━━━━━━━━━━━━━━━━━━━━━━━━━━\u001b[0m \u001b[32m60.6/60.6 kB\u001b[0m \u001b[31m1.3 MB/s\u001b[0m eta \u001b[36m0:00:00\u001b[0m\n",
            "\u001b[?25hRequirement already satisfied: smart-open>=1.8.1 in /usr/local/lib/python3.11/dist-packages (from gensim) (7.1.0)\n",
            "Requirement already satisfied: wrapt in /usr/local/lib/python3.11/dist-packages (from smart-open>=1.8.1->gensim) (1.17.2)\n",
            "Downloading gensim-4.3.3-cp311-cp311-manylinux_2_17_x86_64.manylinux2014_x86_64.whl (26.7 MB)\n",
            "\u001b[2K   \u001b[90m━━━━━━━━━━━━━━━━━━━━━━━━━━━━━━━━━━━━━━━━\u001b[0m \u001b[32m26.7/26.7 MB\u001b[0m \u001b[31m16.4 MB/s\u001b[0m eta \u001b[36m0:00:00\u001b[0m\n",
            "\u001b[?25hDownloading numpy-1.25.2-cp311-cp311-manylinux_2_17_x86_64.manylinux2014_x86_64.whl (18.2 MB)\n",
            "\u001b[2K   \u001b[90m━━━━━━━━━━━━━━━━━━━━━━━━━━━━━━━━━━━━━━━━\u001b[0m \u001b[32m18.2/18.2 MB\u001b[0m \u001b[31m34.1 MB/s\u001b[0m eta \u001b[36m0:00:00\u001b[0m\n",
            "\u001b[?25hDownloading scipy-1.13.1-cp311-cp311-manylinux_2_17_x86_64.manylinux2014_x86_64.whl (38.6 MB)\n",
            "\u001b[2K   \u001b[90m━━━━━━━━━━━━━━━━━━━━━━━━━━━━━━━━━━━━━━━━\u001b[0m \u001b[32m38.6/38.6 MB\u001b[0m \u001b[31m10.0 MB/s\u001b[0m eta \u001b[36m0:00:00\u001b[0m\n",
            "\u001b[?25hInstalling collected packages: numpy, scipy, gensim\n",
            "  Attempting uninstall: numpy\n",
            "    Found existing installation: numpy 2.0.2\n",
            "    Uninstalling numpy-2.0.2:\n",
            "      Successfully uninstalled numpy-2.0.2\n",
            "  Attempting uninstall: scipy\n",
            "    Found existing installation: scipy 1.14.1\n",
            "    Uninstalling scipy-1.14.1:\n",
            "      Successfully uninstalled scipy-1.14.1\n",
            "\u001b[31mERROR: pip's dependency resolver does not currently take into account all the packages that are installed. This behaviour is the source of the following dependency conflicts.\n",
            "blosc2 3.3.0 requires numpy>=1.26, but you have numpy 1.25.2 which is incompatible.\n",
            "tensorflow 2.18.0 requires numpy<2.1.0,>=1.26.0, but you have numpy 1.25.2 which is incompatible.\n",
            "thinc 8.3.6 requires numpy<3.0.0,>=2.0.0, but you have numpy 1.25.2 which is incompatible.\u001b[0m\u001b[31m\n",
            "\u001b[0mSuccessfully installed gensim-4.3.3 numpy-1.25.2 scipy-1.13.1\n"
          ]
        },
        {
          "output_type": "display_data",
          "data": {
            "application/vnd.colab-display-data+json": {
              "pip_warning": {
                "packages": [
                  "numpy"
                ]
              },
              "id": "7803b83474f74994b43d961bc6025735"
            }
          },
          "metadata": {}
        }
      ]
    },
    {
      "cell_type": "code",
      "execution_count": 13,
      "metadata": {
        "id": "-1Ojpe1G7DR9"
      },
      "outputs": [],
      "source": [
        "import gensim\n",
        "import torch"
      ]
    },
    {
      "cell_type": "code",
      "source": [
        "%%writefile get_data.sh\n",
        "wget -O yelp.csv  https://www.dropbox.com/scl/fi/dr6xmgw59kliq74gcd340/yelp.csv?rlkey=la6ue9a899v54f04eu92lbmlx&st=kjg7pmvm&dl=0"
      ],
      "metadata": {
        "colab": {
          "base_uri": "https://localhost:8080/"
        },
        "id": "9jC7WKj27IrW",
        "outputId": "2267bf8b-81cc-4748-9aa4-52d195901cee"
      },
      "execution_count": 2,
      "outputs": [
        {
          "output_type": "stream",
          "name": "stdout",
          "text": [
            "Overwriting get_data.sh\n"
          ]
        }
      ]
    },
    {
      "cell_type": "code",
      "source": [
        "!bash get_data.sh"
      ],
      "metadata": {
        "colab": {
          "base_uri": "https://localhost:8080/"
        },
        "id": "rhYRcFtT7w3l",
        "outputId": "c41f05e5-64d8-443f-9eda-dc71754e079b"
      },
      "execution_count": 4,
      "outputs": [
        {
          "output_type": "stream",
          "name": "stdout",
          "text": [
            "--2025-04-24 06:12:56--  https://www.dropbox.com/scl/fi/dr6xmgw59kliq74gcd340/yelp.csv?rlkey=la6ue9a899v54f04eu92lbmlx\n",
            "Resolving www.dropbox.com (www.dropbox.com)... 162.125.13.18, 2620:100:6050:18::a27d:b12\n",
            "Connecting to www.dropbox.com (www.dropbox.com)|162.125.13.18|:443... connected.\n",
            "HTTP request sent, awaiting response... 302 Found\n",
            "Location: https://uceded5c85b6a2c2e94a235f5144.dl.dropboxusercontent.com/cd/0/inline/CoZ0BYlrv_nCR1WpdOM3q4g-VpmT_SUeta410k-WNv2z6O-kgFkph5pyVS5Iz7jT4Sy3s0fM-X3d_btuXxGmX4ZNKYm7666-OMI4KgysxcAEvKAHjEg1Kfw2UKhgUVHKt1jUKpOsal7W56kwhaw61V5O/file# [following]\n",
            "--2025-04-24 06:12:56--  https://uceded5c85b6a2c2e94a235f5144.dl.dropboxusercontent.com/cd/0/inline/CoZ0BYlrv_nCR1WpdOM3q4g-VpmT_SUeta410k-WNv2z6O-kgFkph5pyVS5Iz7jT4Sy3s0fM-X3d_btuXxGmX4ZNKYm7666-OMI4KgysxcAEvKAHjEg1Kfw2UKhgUVHKt1jUKpOsal7W56kwhaw61V5O/file\n",
            "Resolving uceded5c85b6a2c2e94a235f5144.dl.dropboxusercontent.com (uceded5c85b6a2c2e94a235f5144.dl.dropboxusercontent.com)... 162.125.4.15, 2620:100:6057:15::a27d:d0f\n",
            "Connecting to uceded5c85b6a2c2e94a235f5144.dl.dropboxusercontent.com (uceded5c85b6a2c2e94a235f5144.dl.dropboxusercontent.com)|162.125.4.15|:443... connected.\n",
            "HTTP request sent, awaiting response... 200 OK\n",
            "Length: 8091185 (7.7M) [text/plain]\n",
            "Saving to: ‘yelp.csv’\n",
            "\n",
            "yelp.csv            100%[===================>]   7.72M  17.9MB/s    in 0.4s    \n",
            "\n",
            "2025-04-24 06:12:57 (17.9 MB/s) - ‘yelp.csv’ saved [8091185/8091185]\n",
            "\n"
          ]
        }
      ]
    },
    {
      "cell_type": "code",
      "source": [
        "import pandas as pd\n",
        "path = './yelp.csv'\n",
        "yelp = pd.read_csv(path)[:1000]\n",
        "yelp"
      ],
      "metadata": {
        "id": "7Kz81t-L71Ci",
        "colab": {
          "base_uri": "https://localhost:8080/",
          "height": 597
        },
        "outputId": "3a284425-de31-4b83-ffbd-f48814ae6188"
      },
      "execution_count": 7,
      "outputs": [
        {
          "output_type": "execute_result",
          "data": {
            "text/plain": [
              "                business_id        date               review_id  stars  \\\n",
              "0    9yKzy9PApeiPPOUJEtnvkg  2011-01-26  fWKvX83p0-ka4JS3dc6E5A      5   \n",
              "1    ZRJwVLyzEJq1VAihDhYiow  2011-07-27  IjZ33sJrzXqU-0X6U8NwyA      5   \n",
              "2    6oRAC4uyJCsJl1X0WZpVSA  2012-06-14  IESLBzqUCLdSzSqm0eCSxQ      4   \n",
              "3    _1QQZuf4zZOyFCvXc0o6Vg  2010-05-27  G-WvGaISbqqaMHlNnByodA      5   \n",
              "4    6ozycU1RpktNG2-1BroVtw  2012-01-05  1uJFq2r5QfJG_6ExMRCaGw      5   \n",
              "..                      ...         ...                     ...    ...   \n",
              "995  -PA_1J9JzxLcluTOw2gZjw  2012-04-27  MNjiCQavIbMZpuBGSbGp9Q      1   \n",
              "996  bRk44ShCT0osos-1xaTRyA  2008-09-21  eYtmkXM7xLwb0w-OpAqIIQ      5   \n",
              "997  roTWGaU-RcJ06l8cjFw7xQ  2007-11-27  KpnYRPGPVAAh3tl8NUuGHg      2   \n",
              "998  V2isTBBfO0NgLzXO9oq1Mg  2007-08-13  pehsPum9iW6DVyWil6WhFQ      5   \n",
              "999  WUZxVr_CaRqEQgzvyeK5tw  2012-03-25  1v3rPVXx6RDWjgIUTfVLpw      5   \n",
              "\n",
              "                                                  text    type  \\\n",
              "0    My wife took me here on my birthday for breakf...  review   \n",
              "1    I have no idea why some people give bad review...  review   \n",
              "2    love the gyro plate. Rice is so good and I als...  review   \n",
              "3    Rosie, Dakota, and I LOVE Chaparral Dog Park!!...  review   \n",
              "4    General Manager Scott Petello is a good egg!!!...  review   \n",
              "..                                                 ...     ...   \n",
              "995  Not worth the money. Food was average and the ...  review   \n",
              "996  I love me some Dobson Ranch.  As far as munici...  review   \n",
              "997  I don't know why i have been here more than on...  review   \n",
              "998  Mouth watering. That's all I have to say.\\n\\nT...  review   \n",
              "999  IKEA is so much fun. It's a little bit of a wa...  review   \n",
              "\n",
              "                    user_id  cool  useful  funny  \n",
              "0    rLtl8ZkDX5vH5nAx9C3q5Q     2       5      0  \n",
              "1    0a2KyEL0d3Yb1V6aivbIuQ     0       0      0  \n",
              "2    0hT2KtfLiobPvh6cDC8JQg     0       1      0  \n",
              "3    uZetl9T0NcROGOyFfughhg     1       2      0  \n",
              "4    vYmM4KTsC8ZfQBg-j5MWkw     0       0      0  \n",
              "..                      ...   ...     ...    ...  \n",
              "995  mCE9nD2NnYrokWMMMDoEdw     0       1      0  \n",
              "996  dQO0tQISZyb9L4d5ASnXyQ     0       1      0  \n",
              "997  GAW_mbLDbIoZQ0V0ZhWK8Q     0       0      0  \n",
              "998  9FbgqZ5u9WTLAs28nNafIQ     1       0      0  \n",
              "999  WxO2x4xGbHfeWfU_MbuzTQ     0       2      0  \n",
              "\n",
              "[1000 rows x 10 columns]"
            ],
            "text/html": [
              "\n",
              "  <div id=\"df-d4b236cc-041d-4a5e-a6cc-428c71804274\" class=\"colab-df-container\">\n",
              "    <div>\n",
              "<style scoped>\n",
              "    .dataframe tbody tr th:only-of-type {\n",
              "        vertical-align: middle;\n",
              "    }\n",
              "\n",
              "    .dataframe tbody tr th {\n",
              "        vertical-align: top;\n",
              "    }\n",
              "\n",
              "    .dataframe thead th {\n",
              "        text-align: right;\n",
              "    }\n",
              "</style>\n",
              "<table border=\"1\" class=\"dataframe\">\n",
              "  <thead>\n",
              "    <tr style=\"text-align: right;\">\n",
              "      <th></th>\n",
              "      <th>business_id</th>\n",
              "      <th>date</th>\n",
              "      <th>review_id</th>\n",
              "      <th>stars</th>\n",
              "      <th>text</th>\n",
              "      <th>type</th>\n",
              "      <th>user_id</th>\n",
              "      <th>cool</th>\n",
              "      <th>useful</th>\n",
              "      <th>funny</th>\n",
              "    </tr>\n",
              "  </thead>\n",
              "  <tbody>\n",
              "    <tr>\n",
              "      <th>0</th>\n",
              "      <td>9yKzy9PApeiPPOUJEtnvkg</td>\n",
              "      <td>2011-01-26</td>\n",
              "      <td>fWKvX83p0-ka4JS3dc6E5A</td>\n",
              "      <td>5</td>\n",
              "      <td>My wife took me here on my birthday for breakf...</td>\n",
              "      <td>review</td>\n",
              "      <td>rLtl8ZkDX5vH5nAx9C3q5Q</td>\n",
              "      <td>2</td>\n",
              "      <td>5</td>\n",
              "      <td>0</td>\n",
              "    </tr>\n",
              "    <tr>\n",
              "      <th>1</th>\n",
              "      <td>ZRJwVLyzEJq1VAihDhYiow</td>\n",
              "      <td>2011-07-27</td>\n",
              "      <td>IjZ33sJrzXqU-0X6U8NwyA</td>\n",
              "      <td>5</td>\n",
              "      <td>I have no idea why some people give bad review...</td>\n",
              "      <td>review</td>\n",
              "      <td>0a2KyEL0d3Yb1V6aivbIuQ</td>\n",
              "      <td>0</td>\n",
              "      <td>0</td>\n",
              "      <td>0</td>\n",
              "    </tr>\n",
              "    <tr>\n",
              "      <th>2</th>\n",
              "      <td>6oRAC4uyJCsJl1X0WZpVSA</td>\n",
              "      <td>2012-06-14</td>\n",
              "      <td>IESLBzqUCLdSzSqm0eCSxQ</td>\n",
              "      <td>4</td>\n",
              "      <td>love the gyro plate. Rice is so good and I als...</td>\n",
              "      <td>review</td>\n",
              "      <td>0hT2KtfLiobPvh6cDC8JQg</td>\n",
              "      <td>0</td>\n",
              "      <td>1</td>\n",
              "      <td>0</td>\n",
              "    </tr>\n",
              "    <tr>\n",
              "      <th>3</th>\n",
              "      <td>_1QQZuf4zZOyFCvXc0o6Vg</td>\n",
              "      <td>2010-05-27</td>\n",
              "      <td>G-WvGaISbqqaMHlNnByodA</td>\n",
              "      <td>5</td>\n",
              "      <td>Rosie, Dakota, and I LOVE Chaparral Dog Park!!...</td>\n",
              "      <td>review</td>\n",
              "      <td>uZetl9T0NcROGOyFfughhg</td>\n",
              "      <td>1</td>\n",
              "      <td>2</td>\n",
              "      <td>0</td>\n",
              "    </tr>\n",
              "    <tr>\n",
              "      <th>4</th>\n",
              "      <td>6ozycU1RpktNG2-1BroVtw</td>\n",
              "      <td>2012-01-05</td>\n",
              "      <td>1uJFq2r5QfJG_6ExMRCaGw</td>\n",
              "      <td>5</td>\n",
              "      <td>General Manager Scott Petello is a good egg!!!...</td>\n",
              "      <td>review</td>\n",
              "      <td>vYmM4KTsC8ZfQBg-j5MWkw</td>\n",
              "      <td>0</td>\n",
              "      <td>0</td>\n",
              "      <td>0</td>\n",
              "    </tr>\n",
              "    <tr>\n",
              "      <th>...</th>\n",
              "      <td>...</td>\n",
              "      <td>...</td>\n",
              "      <td>...</td>\n",
              "      <td>...</td>\n",
              "      <td>...</td>\n",
              "      <td>...</td>\n",
              "      <td>...</td>\n",
              "      <td>...</td>\n",
              "      <td>...</td>\n",
              "      <td>...</td>\n",
              "    </tr>\n",
              "    <tr>\n",
              "      <th>995</th>\n",
              "      <td>-PA_1J9JzxLcluTOw2gZjw</td>\n",
              "      <td>2012-04-27</td>\n",
              "      <td>MNjiCQavIbMZpuBGSbGp9Q</td>\n",
              "      <td>1</td>\n",
              "      <td>Not worth the money. Food was average and the ...</td>\n",
              "      <td>review</td>\n",
              "      <td>mCE9nD2NnYrokWMMMDoEdw</td>\n",
              "      <td>0</td>\n",
              "      <td>1</td>\n",
              "      <td>0</td>\n",
              "    </tr>\n",
              "    <tr>\n",
              "      <th>996</th>\n",
              "      <td>bRk44ShCT0osos-1xaTRyA</td>\n",
              "      <td>2008-09-21</td>\n",
              "      <td>eYtmkXM7xLwb0w-OpAqIIQ</td>\n",
              "      <td>5</td>\n",
              "      <td>I love me some Dobson Ranch.  As far as munici...</td>\n",
              "      <td>review</td>\n",
              "      <td>dQO0tQISZyb9L4d5ASnXyQ</td>\n",
              "      <td>0</td>\n",
              "      <td>1</td>\n",
              "      <td>0</td>\n",
              "    </tr>\n",
              "    <tr>\n",
              "      <th>997</th>\n",
              "      <td>roTWGaU-RcJ06l8cjFw7xQ</td>\n",
              "      <td>2007-11-27</td>\n",
              "      <td>KpnYRPGPVAAh3tl8NUuGHg</td>\n",
              "      <td>2</td>\n",
              "      <td>I don't know why i have been here more than on...</td>\n",
              "      <td>review</td>\n",
              "      <td>GAW_mbLDbIoZQ0V0ZhWK8Q</td>\n",
              "      <td>0</td>\n",
              "      <td>0</td>\n",
              "      <td>0</td>\n",
              "    </tr>\n",
              "    <tr>\n",
              "      <th>998</th>\n",
              "      <td>V2isTBBfO0NgLzXO9oq1Mg</td>\n",
              "      <td>2007-08-13</td>\n",
              "      <td>pehsPum9iW6DVyWil6WhFQ</td>\n",
              "      <td>5</td>\n",
              "      <td>Mouth watering. That's all I have to say.\\n\\nT...</td>\n",
              "      <td>review</td>\n",
              "      <td>9FbgqZ5u9WTLAs28nNafIQ</td>\n",
              "      <td>1</td>\n",
              "      <td>0</td>\n",
              "      <td>0</td>\n",
              "    </tr>\n",
              "    <tr>\n",
              "      <th>999</th>\n",
              "      <td>WUZxVr_CaRqEQgzvyeK5tw</td>\n",
              "      <td>2012-03-25</td>\n",
              "      <td>1v3rPVXx6RDWjgIUTfVLpw</td>\n",
              "      <td>5</td>\n",
              "      <td>IKEA is so much fun. It's a little bit of a wa...</td>\n",
              "      <td>review</td>\n",
              "      <td>WxO2x4xGbHfeWfU_MbuzTQ</td>\n",
              "      <td>0</td>\n",
              "      <td>2</td>\n",
              "      <td>0</td>\n",
              "    </tr>\n",
              "  </tbody>\n",
              "</table>\n",
              "<p>1000 rows × 10 columns</p>\n",
              "</div>\n",
              "    <div class=\"colab-df-buttons\">\n",
              "\n",
              "  <div class=\"colab-df-container\">\n",
              "    <button class=\"colab-df-convert\" onclick=\"convertToInteractive('df-d4b236cc-041d-4a5e-a6cc-428c71804274')\"\n",
              "            title=\"Convert this dataframe to an interactive table.\"\n",
              "            style=\"display:none;\">\n",
              "\n",
              "  <svg xmlns=\"http://www.w3.org/2000/svg\" height=\"24px\" viewBox=\"0 -960 960 960\">\n",
              "    <path d=\"M120-120v-720h720v720H120Zm60-500h600v-160H180v160Zm220 220h160v-160H400v160Zm0 220h160v-160H400v160ZM180-400h160v-160H180v160Zm440 0h160v-160H620v160ZM180-180h160v-160H180v160Zm440 0h160v-160H620v160Z\"/>\n",
              "  </svg>\n",
              "    </button>\n",
              "\n",
              "  <style>\n",
              "    .colab-df-container {\n",
              "      display:flex;\n",
              "      gap: 12px;\n",
              "    }\n",
              "\n",
              "    .colab-df-convert {\n",
              "      background-color: #E8F0FE;\n",
              "      border: none;\n",
              "      border-radius: 50%;\n",
              "      cursor: pointer;\n",
              "      display: none;\n",
              "      fill: #1967D2;\n",
              "      height: 32px;\n",
              "      padding: 0 0 0 0;\n",
              "      width: 32px;\n",
              "    }\n",
              "\n",
              "    .colab-df-convert:hover {\n",
              "      background-color: #E2EBFA;\n",
              "      box-shadow: 0px 1px 2px rgba(60, 64, 67, 0.3), 0px 1px 3px 1px rgba(60, 64, 67, 0.15);\n",
              "      fill: #174EA6;\n",
              "    }\n",
              "\n",
              "    .colab-df-buttons div {\n",
              "      margin-bottom: 4px;\n",
              "    }\n",
              "\n",
              "    [theme=dark] .colab-df-convert {\n",
              "      background-color: #3B4455;\n",
              "      fill: #D2E3FC;\n",
              "    }\n",
              "\n",
              "    [theme=dark] .colab-df-convert:hover {\n",
              "      background-color: #434B5C;\n",
              "      box-shadow: 0px 1px 3px 1px rgba(0, 0, 0, 0.15);\n",
              "      filter: drop-shadow(0px 1px 2px rgba(0, 0, 0, 0.3));\n",
              "      fill: #FFFFFF;\n",
              "    }\n",
              "  </style>\n",
              "\n",
              "    <script>\n",
              "      const buttonEl =\n",
              "        document.querySelector('#df-d4b236cc-041d-4a5e-a6cc-428c71804274 button.colab-df-convert');\n",
              "      buttonEl.style.display =\n",
              "        google.colab.kernel.accessAllowed ? 'block' : 'none';\n",
              "\n",
              "      async function convertToInteractive(key) {\n",
              "        const element = document.querySelector('#df-d4b236cc-041d-4a5e-a6cc-428c71804274');\n",
              "        const dataTable =\n",
              "          await google.colab.kernel.invokeFunction('convertToInteractive',\n",
              "                                                    [key], {});\n",
              "        if (!dataTable) return;\n",
              "\n",
              "        const docLinkHtml = 'Like what you see? Visit the ' +\n",
              "          '<a target=\"_blank\" href=https://colab.research.google.com/notebooks/data_table.ipynb>data table notebook</a>'\n",
              "          + ' to learn more about interactive tables.';\n",
              "        element.innerHTML = '';\n",
              "        dataTable['output_type'] = 'display_data';\n",
              "        await google.colab.output.renderOutput(dataTable, element);\n",
              "        const docLink = document.createElement('div');\n",
              "        docLink.innerHTML = docLinkHtml;\n",
              "        element.appendChild(docLink);\n",
              "      }\n",
              "    </script>\n",
              "  </div>\n",
              "\n",
              "\n",
              "<div id=\"df-a0e4818b-adfc-4090-93a4-f59fbc3f593f\">\n",
              "  <button class=\"colab-df-quickchart\" onclick=\"quickchart('df-a0e4818b-adfc-4090-93a4-f59fbc3f593f')\"\n",
              "            title=\"Suggest charts\"\n",
              "            style=\"display:none;\">\n",
              "\n",
              "<svg xmlns=\"http://www.w3.org/2000/svg\" height=\"24px\"viewBox=\"0 0 24 24\"\n",
              "     width=\"24px\">\n",
              "    <g>\n",
              "        <path d=\"M19 3H5c-1.1 0-2 .9-2 2v14c0 1.1.9 2 2 2h14c1.1 0 2-.9 2-2V5c0-1.1-.9-2-2-2zM9 17H7v-7h2v7zm4 0h-2V7h2v10zm4 0h-2v-4h2v4z\"/>\n",
              "    </g>\n",
              "</svg>\n",
              "  </button>\n",
              "\n",
              "<style>\n",
              "  .colab-df-quickchart {\n",
              "      --bg-color: #E8F0FE;\n",
              "      --fill-color: #1967D2;\n",
              "      --hover-bg-color: #E2EBFA;\n",
              "      --hover-fill-color: #174EA6;\n",
              "      --disabled-fill-color: #AAA;\n",
              "      --disabled-bg-color: #DDD;\n",
              "  }\n",
              "\n",
              "  [theme=dark] .colab-df-quickchart {\n",
              "      --bg-color: #3B4455;\n",
              "      --fill-color: #D2E3FC;\n",
              "      --hover-bg-color: #434B5C;\n",
              "      --hover-fill-color: #FFFFFF;\n",
              "      --disabled-bg-color: #3B4455;\n",
              "      --disabled-fill-color: #666;\n",
              "  }\n",
              "\n",
              "  .colab-df-quickchart {\n",
              "    background-color: var(--bg-color);\n",
              "    border: none;\n",
              "    border-radius: 50%;\n",
              "    cursor: pointer;\n",
              "    display: none;\n",
              "    fill: var(--fill-color);\n",
              "    height: 32px;\n",
              "    padding: 0;\n",
              "    width: 32px;\n",
              "  }\n",
              "\n",
              "  .colab-df-quickchart:hover {\n",
              "    background-color: var(--hover-bg-color);\n",
              "    box-shadow: 0 1px 2px rgba(60, 64, 67, 0.3), 0 1px 3px 1px rgba(60, 64, 67, 0.15);\n",
              "    fill: var(--button-hover-fill-color);\n",
              "  }\n",
              "\n",
              "  .colab-df-quickchart-complete:disabled,\n",
              "  .colab-df-quickchart-complete:disabled:hover {\n",
              "    background-color: var(--disabled-bg-color);\n",
              "    fill: var(--disabled-fill-color);\n",
              "    box-shadow: none;\n",
              "  }\n",
              "\n",
              "  .colab-df-spinner {\n",
              "    border: 2px solid var(--fill-color);\n",
              "    border-color: transparent;\n",
              "    border-bottom-color: var(--fill-color);\n",
              "    animation:\n",
              "      spin 1s steps(1) infinite;\n",
              "  }\n",
              "\n",
              "  @keyframes spin {\n",
              "    0% {\n",
              "      border-color: transparent;\n",
              "      border-bottom-color: var(--fill-color);\n",
              "      border-left-color: var(--fill-color);\n",
              "    }\n",
              "    20% {\n",
              "      border-color: transparent;\n",
              "      border-left-color: var(--fill-color);\n",
              "      border-top-color: var(--fill-color);\n",
              "    }\n",
              "    30% {\n",
              "      border-color: transparent;\n",
              "      border-left-color: var(--fill-color);\n",
              "      border-top-color: var(--fill-color);\n",
              "      border-right-color: var(--fill-color);\n",
              "    }\n",
              "    40% {\n",
              "      border-color: transparent;\n",
              "      border-right-color: var(--fill-color);\n",
              "      border-top-color: var(--fill-color);\n",
              "    }\n",
              "    60% {\n",
              "      border-color: transparent;\n",
              "      border-right-color: var(--fill-color);\n",
              "    }\n",
              "    80% {\n",
              "      border-color: transparent;\n",
              "      border-right-color: var(--fill-color);\n",
              "      border-bottom-color: var(--fill-color);\n",
              "    }\n",
              "    90% {\n",
              "      border-color: transparent;\n",
              "      border-bottom-color: var(--fill-color);\n",
              "    }\n",
              "  }\n",
              "</style>\n",
              "\n",
              "  <script>\n",
              "    async function quickchart(key) {\n",
              "      const quickchartButtonEl =\n",
              "        document.querySelector('#' + key + ' button');\n",
              "      quickchartButtonEl.disabled = true;  // To prevent multiple clicks.\n",
              "      quickchartButtonEl.classList.add('colab-df-spinner');\n",
              "      try {\n",
              "        const charts = await google.colab.kernel.invokeFunction(\n",
              "            'suggestCharts', [key], {});\n",
              "      } catch (error) {\n",
              "        console.error('Error during call to suggestCharts:', error);\n",
              "      }\n",
              "      quickchartButtonEl.classList.remove('colab-df-spinner');\n",
              "      quickchartButtonEl.classList.add('colab-df-quickchart-complete');\n",
              "    }\n",
              "    (() => {\n",
              "      let quickchartButtonEl =\n",
              "        document.querySelector('#df-a0e4818b-adfc-4090-93a4-f59fbc3f593f button');\n",
              "      quickchartButtonEl.style.display =\n",
              "        google.colab.kernel.accessAllowed ? 'block' : 'none';\n",
              "    })();\n",
              "  </script>\n",
              "</div>\n",
              "\n",
              "  <div id=\"id_29a3d340-6c86-4e45-8bda-72c984a94af6\">\n",
              "    <style>\n",
              "      .colab-df-generate {\n",
              "        background-color: #E8F0FE;\n",
              "        border: none;\n",
              "        border-radius: 50%;\n",
              "        cursor: pointer;\n",
              "        display: none;\n",
              "        fill: #1967D2;\n",
              "        height: 32px;\n",
              "        padding: 0 0 0 0;\n",
              "        width: 32px;\n",
              "      }\n",
              "\n",
              "      .colab-df-generate:hover {\n",
              "        background-color: #E2EBFA;\n",
              "        box-shadow: 0px 1px 2px rgba(60, 64, 67, 0.3), 0px 1px 3px 1px rgba(60, 64, 67, 0.15);\n",
              "        fill: #174EA6;\n",
              "      }\n",
              "\n",
              "      [theme=dark] .colab-df-generate {\n",
              "        background-color: #3B4455;\n",
              "        fill: #D2E3FC;\n",
              "      }\n",
              "\n",
              "      [theme=dark] .colab-df-generate:hover {\n",
              "        background-color: #434B5C;\n",
              "        box-shadow: 0px 1px 3px 1px rgba(0, 0, 0, 0.15);\n",
              "        filter: drop-shadow(0px 1px 2px rgba(0, 0, 0, 0.3));\n",
              "        fill: #FFFFFF;\n",
              "      }\n",
              "    </style>\n",
              "    <button class=\"colab-df-generate\" onclick=\"generateWithVariable('yelp')\"\n",
              "            title=\"Generate code using this dataframe.\"\n",
              "            style=\"display:none;\">\n",
              "\n",
              "  <svg xmlns=\"http://www.w3.org/2000/svg\" height=\"24px\"viewBox=\"0 0 24 24\"\n",
              "       width=\"24px\">\n",
              "    <path d=\"M7,19H8.4L18.45,9,17,7.55,7,17.6ZM5,21V16.75L18.45,3.32a2,2,0,0,1,2.83,0l1.4,1.43a1.91,1.91,0,0,1,.58,1.4,1.91,1.91,0,0,1-.58,1.4L9.25,21ZM18.45,9,17,7.55Zm-12,3A5.31,5.31,0,0,0,4.9,8.1,5.31,5.31,0,0,0,1,6.5,5.31,5.31,0,0,0,4.9,4.9,5.31,5.31,0,0,0,6.5,1,5.31,5.31,0,0,0,8.1,4.9,5.31,5.31,0,0,0,12,6.5,5.46,5.46,0,0,0,6.5,12Z\"/>\n",
              "  </svg>\n",
              "    </button>\n",
              "    <script>\n",
              "      (() => {\n",
              "      const buttonEl =\n",
              "        document.querySelector('#id_29a3d340-6c86-4e45-8bda-72c984a94af6 button.colab-df-generate');\n",
              "      buttonEl.style.display =\n",
              "        google.colab.kernel.accessAllowed ? 'block' : 'none';\n",
              "\n",
              "      buttonEl.onclick = () => {\n",
              "        google.colab.notebook.generateWithVariable('yelp');\n",
              "      }\n",
              "      })();\n",
              "    </script>\n",
              "  </div>\n",
              "\n",
              "    </div>\n",
              "  </div>\n"
            ],
            "application/vnd.google.colaboratory.intrinsic+json": {
              "type": "dataframe",
              "variable_name": "yelp",
              "summary": "{\n  \"name\": \"yelp\",\n  \"rows\": 1000,\n  \"fields\": [\n    {\n      \"column\": \"business_id\",\n      \"properties\": {\n        \"dtype\": \"string\",\n        \"num_unique_values\": 822,\n        \"samples\": [\n          \"6Kon3cR5ZEm5rmYKlpcfcw\",\n          \"hBHkHYOk_E-6EgObC6MTdQ\",\n          \"_HTE4pOKeJC7kcxiCF9vTA\"\n        ],\n        \"semantic_type\": \"\",\n        \"description\": \"\"\n      }\n    },\n    {\n      \"column\": \"date\",\n      \"properties\": {\n        \"dtype\": \"object\",\n        \"num_unique_values\": 747,\n        \"samples\": [\n          \"2007-09-05\",\n          \"2011-08-01\",\n          \"2010-02-17\"\n        ],\n        \"semantic_type\": \"\",\n        \"description\": \"\"\n      }\n    },\n    {\n      \"column\": \"review_id\",\n      \"properties\": {\n        \"dtype\": \"string\",\n        \"num_unique_values\": 1000,\n        \"samples\": [\n          \"dGzFMtE5JQ3YkUHS6UU0uA\",\n          \"748rZWrS3ZR4xhhvfGJUcg\",\n          \"T4L2cqUhhDv7BJSs7wqg5Q\"\n        ],\n        \"semantic_type\": \"\",\n        \"description\": \"\"\n      }\n    },\n    {\n      \"column\": \"stars\",\n      \"properties\": {\n        \"dtype\": \"number\",\n        \"std\": 1,\n        \"min\": 1,\n        \"max\": 5,\n        \"num_unique_values\": 5,\n        \"samples\": [\n          4,\n          1,\n          2\n        ],\n        \"semantic_type\": \"\",\n        \"description\": \"\"\n      }\n    },\n    {\n      \"column\": \"text\",\n      \"properties\": {\n        \"dtype\": \"string\",\n        \"num_unique_values\": 1000,\n        \"samples\": [\n          \"I moved from Philly this past summer and I've searched all over the Valley for a \\\"GOOD\\\" Pizza. After eating lots of tasteless and cardboard pizza, I found Momma Mia when I moved into Arcadia! I love the hole in the wall vibe! Just like home :) The sauce is great and super tasty! The dough tastes slightly sweet and is fluffy..It's what makes the pizza so great and there is a brickoven!! I love it! My husband and I order the pizza/wing special .The wings are so hot and spicy ( we order the hot, but it comes in buffalo and mild) They have an extensive menu of pasta, sandwiches and salads. I want to try their Philly Steak next, but for the time being I still make mine at home. \\nEvery pizza place likes to say its \\\"New York Style\\\", but this place really does a NYC pizza. Well the best nyc pizza you're gonna get in AZ, Something about the water.\",\n          \"In my opinion, one of the best steakhouses in town.  My husband and I go here for all our special occasions and have never had one bad meal.  The service is the best just like their steaks.  I recommend the Caesar salad, fillet, creamed spinach, cream corn, garlic and lobster mashed potatoes.  We will continue our tradition and keep coming back here.\",\n          \"This place literally just opened.  I didn't really know what to expect, but when I walked in the doors I was immediately greeted by Nick, and he was very nice and down to earth.  This is a shop for people who like to garden/grow plants hydroponically or in the ground. They have all kinds of gardening supplies and Nick said they will be receiving their seed shipment from Seeds of Change any day now.  I will definitely be back, as my green thumb (or lack thereof) has been sparked:)  P.S. I was informed that the in the next issue of the New Times, Grotown will have an add to clip out and bring in to save 20% !!Yay plants:)\"\n        ],\n        \"semantic_type\": \"\",\n        \"description\": \"\"\n      }\n    },\n    {\n      \"column\": \"type\",\n      \"properties\": {\n        \"dtype\": \"category\",\n        \"num_unique_values\": 1,\n        \"samples\": [\n          \"review\"\n        ],\n        \"semantic_type\": \"\",\n        \"description\": \"\"\n      }\n    },\n    {\n      \"column\": \"user_id\",\n      \"properties\": {\n        \"dtype\": \"string\",\n        \"num_unique_values\": 891,\n        \"samples\": [\n          \"U4E0mci8eBfGlwFLWo2cIA\"\n        ],\n        \"semantic_type\": \"\",\n        \"description\": \"\"\n      }\n    },\n    {\n      \"column\": \"cool\",\n      \"properties\": {\n        \"dtype\": \"number\",\n        \"std\": 2,\n        \"min\": 0,\n        \"max\": 28,\n        \"num_unique_values\": 17,\n        \"samples\": [\n          2\n        ],\n        \"semantic_type\": \"\",\n        \"description\": \"\"\n      }\n    },\n    {\n      \"column\": \"useful\",\n      \"properties\": {\n        \"dtype\": \"number\",\n        \"std\": 2,\n        \"min\": 0,\n        \"max\": 28,\n        \"num_unique_values\": 20,\n        \"samples\": [\n          5\n        ],\n        \"semantic_type\": \"\",\n        \"description\": \"\"\n      }\n    },\n    {\n      \"column\": \"funny\",\n      \"properties\": {\n        \"dtype\": \"number\",\n        \"std\": 2,\n        \"min\": 0,\n        \"max\": 39,\n        \"num_unique_values\": 20,\n        \"samples\": [\n          0\n        ],\n        \"semantic_type\": \"\",\n        \"description\": \"\"\n      }\n    }\n  ]\n}"
            }
          },
          "metadata": {},
          "execution_count": 7
        }
      ]
    },
    {
      "cell_type": "code",
      "source": [
        "text = yelp['text'].to_list()\n",
        "text[0]\n"
      ],
      "metadata": {
        "id": "cIp2Yzls75Xx",
        "colab": {
          "base_uri": "https://localhost:8080/",
          "height": 147
        },
        "outputId": "d06027aa-49f8-4a12-8118-f46ea55881e0"
      },
      "execution_count": 35,
      "outputs": [
        {
          "output_type": "execute_result",
          "data": {
            "text/plain": [
              "'My wife took me here on my birthday for breakfast and it was excellent.  The weather was perfect which made sitting outside overlooking their grounds an absolute pleasure.  Our waitress was excellent and our food arrived quickly on the semi-busy Saturday morning.  It looked like the place fills up pretty quickly so the earlier you get here the better.\\n\\nDo yourself a favor and get their Bloody Mary.  It was phenomenal and simply the best I\\'ve ever had.  I\\'m pretty sure they only use ingredients from their garden and blend them fresh when you order it.  It was amazing.\\n\\nWhile EVERYTHING on the menu looks excellent, I had the white truffle scrambled eggs vegetable skillet and it was tasty and delicious.  It came with 2 pieces of their griddled bread with was amazing and it absolutely made the meal complete.  It was the best \"toast\" I\\'ve ever had.\\n\\nAnyway, I can\\'t wait to go back!'"
            ],
            "application/vnd.google.colaboratory.intrinsic+json": {
              "type": "string"
            }
          },
          "metadata": {},
          "execution_count": 35
        }
      ]
    },
    {
      "cell_type": "code",
      "source": [
        "text = [gensim.utils.simple_preprocess(line) for line in text]\n",
        "print(text[0])"
      ],
      "metadata": {
        "id": "54nGusrA8XBW",
        "colab": {
          "base_uri": "https://localhost:8080/"
        },
        "outputId": "8124112c-8fa0-4646-c4b1-9c19421be857"
      },
      "execution_count": 36,
      "outputs": [
        {
          "output_type": "stream",
          "name": "stdout",
          "text": [
            "['my', 'wife', 'took', 'me', 'here', 'on', 'my', 'birthday', 'for', 'breakfast', 'and', 'it', 'was', 'excellent', 'the', 'weather', 'was', 'perfect', 'which', 'made', 'sitting', 'outside', 'overlooking', 'their', 'grounds', 'an', 'absolute', 'pleasure', 'our', 'waitress', 'was', 'excellent', 'and', 'our', 'food', 'arrived', 'quickly', 'on', 'the', 'semi', 'busy', 'saturday', 'morning', 'it', 'looked', 'like', 'the', 'place', 'fills', 'up', 'pretty', 'quickly', 'so', 'the', 'earlier', 'you', 'get', 'here', 'the', 'better', 'do', 'yourself', 'favor', 'and', 'get', 'their', 'bloody', 'mary', 'it', 'was', 'phenomenal', 'and', 'simply', 'the', 'best', 've', 'ever', 'had', 'pretty', 'sure', 'they', 'only', 'use', 'ingredients', 'from', 'their', 'garden', 'and', 'blend', 'them', 'fresh', 'when', 'you', 'order', 'it', 'it', 'was', 'amazing', 'while', 'everything', 'on', 'the', 'menu', 'looks', 'excellent', 'had', 'the', 'white', 'truffle', 'scrambled', 'eggs', 'vegetable', 'skillet', 'and', 'it', 'was', 'tasty', 'and', 'delicious', 'it', 'came', 'with', 'pieces', 'of', 'their', 'griddled', 'bread', 'with', 'was', 'amazing', 'and', 'it', 'absolutely', 'made', 'the', 'meal', 'complete', 'it', 'was', 'the', 'best', 'toast', 've', 'ever', 'had', 'anyway', 'can', 'wait', 'to', 'go', 'back']\n"
          ]
        }
      ]
    },
    {
      "cell_type": "code",
      "source": [
        "from gensim.models import Word2Vec\n",
        "w2v_model = Word2Vec(sentences=text, vector_size=50, min_count=1, window=5, workers=4, epochs=10)"
      ],
      "metadata": {
        "id": "gWvHLS_z8jec"
      },
      "execution_count": 37,
      "outputs": []
    },
    {
      "cell_type": "code",
      "source": [
        "vocab_size = len(w2v_model.wv.key_to_index)\n",
        "w2v_model.wv.key_to_index['[UNK]'] = vocab_size\n",
        "vocab_size += 1\n",
        "vocab_size"
      ],
      "metadata": {
        "colab": {
          "base_uri": "https://localhost:8080/"
        },
        "id": "9MVfYCna-Dd9",
        "outputId": "cccf3937-1de1-4413-8c9d-4117ebc469c2"
      },
      "execution_count": 38,
      "outputs": [
        {
          "output_type": "execute_result",
          "data": {
            "text/plain": [
              "9724"
            ]
          },
          "metadata": {},
          "execution_count": 38
        }
      ]
    },
    {
      "cell_type": "code",
      "source": [
        "vector = w2v_model.wv.get_vector('wine')\n",
        "vector, vector.shape"
      ],
      "metadata": {
        "colab": {
          "base_uri": "https://localhost:8080/"
        },
        "id": "Fsb03F07-GLJ",
        "outputId": "a764374f-01d3-46a9-d641-ad4fba9cc776"
      },
      "execution_count": 39,
      "outputs": [
        {
          "output_type": "execute_result",
          "data": {
            "text/plain": [
              "(array([-0.34774062, -0.12575147, -0.03768789,  0.18791753, -0.29774296,\n",
              "        -0.68384105,  0.85120505,  1.1557896 , -1.0645304 , -0.4173458 ,\n",
              "        -0.12914152, -0.65599537,  0.15204945,  0.15141368, -0.23742573,\n",
              "         0.18253098,  0.5774417 ,  0.1485084 , -1.2530594 , -1.0194821 ,\n",
              "         0.13185795,  0.76836216,  1.2709895 , -0.12023711,  0.3655137 ,\n",
              "         0.17789964, -0.6195296 ,  0.58738154, -1.0186607 ,  0.0740547 ,\n",
              "         0.1823399 , -0.40017015,  0.08451344,  0.18460858, -0.9546881 ,\n",
              "         0.2722504 ,  0.6067928 , -0.06885776,  0.01025335, -0.41368118,\n",
              "         0.69072527,  0.07193103, -0.57239914, -0.24979317,  1.3008344 ,\n",
              "        -0.13514236, -0.33186102, -0.5662928 ,  0.85928756,  0.0255928 ],\n",
              "       dtype=float32),\n",
              " (50,))"
            ]
          },
          "metadata": {},
          "execution_count": 39
        }
      ]
    },
    {
      "cell_type": "code",
      "source": [
        "similars = w2v_model.wv.most_similar('pizza', topn=10)\n",
        "similars"
      ],
      "metadata": {
        "id": "UJ5tfsZw_Eu5",
        "colab": {
          "base_uri": "https://localhost:8080/"
        },
        "outputId": "91fbf5a6-a4e8-44fe-d36a-f1ed1dea71af"
      },
      "execution_count": 42,
      "outputs": [
        {
          "output_type": "execute_result",
          "data": {
            "text/plain": [
              "[('fast', 0.992986798286438),\n",
              " ('absolutely', 0.9898867607116699),\n",
              " ('wonderful', 0.9897540807723999),\n",
              " ('social', 0.9896401166915894),\n",
              " ('pleasant', 0.9895107746124268),\n",
              " ('perfect', 0.988762378692627),\n",
              " ('ambiance', 0.9875544309616089),\n",
              " ('fabulous', 0.9875140190124512),\n",
              " ('rude', 0.9868929386138916),\n",
              " ('fantastic', 0.9867562055587769)]"
            ]
          },
          "metadata": {},
          "execution_count": 42
        }
      ]
    },
    {
      "cell_type": "code",
      "source": [
        "# THIS IS VERY INTERNAL YOU WILL NEVER DO THIS\n",
        "\n",
        "import numpy as np\n",
        "\n",
        "def cosine_similarity(vec1, vec2):\n",
        "  \"\"\"Calculates the cosine similarity between two vectors.\n",
        "\n",
        "  Args:\n",
        "      vec1: The first vector.\n",
        "      vec2: The second vector.\n",
        "\n",
        "  Returns:\n",
        "      The cosine similarity between the two vectors.\n",
        "  \"\"\"\n",
        "  dot_product = np.dot(vec1, vec2)\n",
        "  norm_vec1 = np.linalg.norm(vec1)\n",
        "  norm_vec2 = np.linalg.norm(vec2)\n",
        "  return dot_product / (norm_vec1 * norm_vec2)"
      ],
      "metadata": {
        "id": "r1QFtp8YA_xS"
      },
      "execution_count": 43,
      "outputs": []
    },
    {
      "cell_type": "code",
      "source": [
        "pizza_vector = w2v_model.wv.get_vector('pizza')\n",
        "for similar in similars:\n",
        "  word, score = similar\n",
        "  print('\\n --------------------\\n')\n",
        "  print(word, w2v_model.wv.get_vector(word))\n",
        "  print('\\n --------------------\\n')\n",
        "  distance = cosine_similarity(pizza_vector, w2v_model.wv.get_vector(word))\n",
        "  print(distance, score)\n",
        "  print('\\n --------------------\\n')"
      ],
      "metadata": {
        "colab": {
          "base_uri": "https://localhost:8080/"
        },
        "id": "krAdhklx_PDI",
        "outputId": "a9733c3e-5084-43cd-988a-02e959b214d0"
      },
      "execution_count": null,
      "outputs": [
        {
          "output_type": "stream",
          "name": "stdout",
          "text": [
            "\n",
            " --------------------\n",
            "\n",
            "wonderful [-0.3194134  -0.14930853  0.01371251  0.1169365  -0.20428702 -0.4557146\n",
            "  0.7541973   1.096093   -0.8463955  -0.18580683 -0.00270726 -0.55525076\n",
            "  0.08438654  0.25508708 -0.2611699   0.33014512  0.5973996   0.04368879\n",
            " -1.1788788  -0.917382    0.18795404  0.5650465   1.1926315  -0.19280612\n",
            "  0.25906935  0.09980077 -0.39434126  0.5068238  -0.94887567  0.01519528\n",
            "  0.02730107 -0.282501   -0.13578577  0.14294127 -0.9318337   0.22349681\n",
            "  0.59391516 -0.10202914  0.03946726 -0.50686926  0.39040756  0.20286554\n",
            " -0.51593965 -0.26338866  1.1027036  -0.07053535 -0.29076532 -0.41759598\n",
            "  0.6807579   0.18780364]\n",
            "\n",
            " --------------------\n",
            "\n",
            "0.9932764 0.9932765364646912\n",
            "\n",
            " --------------------\n",
            "\n",
            "\n",
            " --------------------\n",
            "\n",
            "fast [-0.223226   -0.11002081 -0.07885289  0.10090174 -0.13143383 -0.32377407\n",
            "  0.5351074   0.7767229  -0.5993233  -0.16182075 -0.02494974 -0.37500137\n",
            "  0.0597415   0.22003251 -0.21061115  0.2213217   0.44952056  0.05997888\n",
            " -0.8477583  -0.6374747   0.12371663  0.43473837  0.85788524 -0.13043553\n",
            "  0.21453443  0.0478515  -0.2559666   0.3852099  -0.6636109   0.03644469\n",
            "  0.02535173 -0.22275563 -0.07415114  0.09043082 -0.62585694  0.12324482\n",
            "  0.4032589  -0.14436561  0.08906034 -0.29085287  0.26308018  0.14198864\n",
            " -0.31250876 -0.22328529  0.7770151  -0.0019099  -0.17490214 -0.30843076\n",
            "  0.4627882   0.0806556 ]\n",
            "\n",
            " --------------------\n",
            "\n",
            "0.99194306 0.9919430613517761\n",
            "\n",
            " --------------------\n",
            "\n",
            "\n",
            " --------------------\n",
            "\n",
            "perfect [-0.31350103 -0.21332103 -0.00741127  0.23691611 -0.13690479 -0.4911959\n",
            "  0.8934182   1.2336496  -0.95972025 -0.06143487  0.05375729 -0.58536935\n",
            "  0.03648985  0.28355205 -0.2995391   0.2993432   0.7078441   0.04716767\n",
            " -1.3234273  -1.0728981   0.28230533  0.60664505  1.3738443  -0.3167877\n",
            "  0.35337663  0.12622517 -0.41766357  0.54308265 -1.1491046  -0.00331724\n",
            "  0.08677527 -0.2816821  -0.11362708  0.21025667 -1.1244525   0.25533292\n",
            "  0.5558755  -0.18056355  0.07398193 -0.56892806  0.28101426  0.23933117\n",
            " -0.5023978  -0.25111288  1.3187912  -0.06959308 -0.25285167 -0.50955707\n",
            "  0.70245796  0.30623797]\n",
            "\n",
            " --------------------\n",
            "\n",
            "0.991386 0.9913860559463501\n",
            "\n",
            " --------------------\n",
            "\n",
            "\n",
            " --------------------\n",
            "\n",
            "surprisingly [-0.0956485  -0.02553068 -0.03197316  0.05199645 -0.03918047 -0.15959404\n",
            "  0.24629474  0.35561115 -0.23944928 -0.04055551 -0.03259664 -0.14884166\n",
            "  0.04806709  0.06722866 -0.06045616  0.1203553   0.21399418 -0.0020799\n",
            " -0.3882936  -0.31083432  0.05005497  0.18323913  0.3718206  -0.0770727\n",
            "  0.09386473  0.0370825  -0.11894806  0.1501125  -0.29855406  0.01458929\n",
            "  0.01402351 -0.06151558 -0.0478002   0.06113569 -0.28923845  0.07035787\n",
            "  0.20055911  0.00398569  0.00449951 -0.15064162  0.16067277  0.06220344\n",
            " -0.13674466 -0.05814353  0.34027666 -0.00419805 -0.06788214 -0.138712\n",
            "  0.22302875  0.0756698 ]\n",
            "\n",
            " --------------------\n",
            "\n",
            "0.9911411 0.991141140460968\n",
            "\n",
            " --------------------\n",
            "\n",
            "\n",
            " --------------------\n",
            "\n",
            "sushi [-0.13477486 -0.11695074 -0.02514218  0.09812842 -0.17431866 -0.3395284\n",
            "  0.45781586  0.7540095  -0.6836173  -0.12448294 -0.09242243 -0.3925266\n",
            "  0.17481607  0.1485424  -0.2410795   0.21730395  0.42655152 -0.01851316\n",
            " -0.91829693 -0.7168325  -0.00836777  0.4466306   0.8588378  -0.08065214\n",
            "  0.2558136   0.13383894 -0.21853934  0.30948603 -0.7265402   0.0065671\n",
            "  0.01193598 -0.12319443 -0.09257662  0.02429358 -0.5787894   0.14856279\n",
            "  0.49101636 -0.09436511  0.04380231 -0.27420756  0.18696485  0.11085853\n",
            " -0.35250023 -0.09350932  0.84829205  0.07036234 -0.21640788 -0.21060292\n",
            "  0.39179304  0.11848225]\n",
            "\n",
            " --------------------\n",
            "\n",
            "0.990623 0.9906229972839355\n",
            "\n",
            " --------------------\n",
            "\n",
            "\n",
            " --------------------\n",
            "\n",
            "fairly [-0.12759213 -0.01977005 -0.02265051  0.04112683 -0.07021096 -0.15481414\n",
            "  0.32314226  0.40613374 -0.3132455  -0.04971538 -0.02303824 -0.20368487\n",
            "  0.02768007  0.07917295 -0.08125348  0.15288107  0.24581043  0.05597126\n",
            " -0.48136735 -0.3641471   0.07893457  0.23229153  0.48329103 -0.09115949\n",
            "  0.11267129  0.02171657 -0.15020162  0.155294   -0.38900185 -0.00293296\n",
            " -0.00695273 -0.12221629 -0.03405663  0.0448078  -0.37554872  0.09167492\n",
            "  0.2573618  -0.02920823  0.02239493 -0.20707648  0.1588239   0.04313146\n",
            " -0.18265592 -0.06177923  0.42124674 -0.00852295 -0.12525077 -0.15796396\n",
            "  0.2622593   0.08683784]\n",
            "\n",
            " --------------------\n",
            "\n",
            "0.9899001 0.9899000525474548\n",
            "\n",
            " --------------------\n",
            "\n",
            "\n",
            " --------------------\n",
            "\n",
            "gyro [-0.11438259 -0.05944231 -0.03324946  0.07593414 -0.07882221 -0.18489107\n",
            "  0.30394337  0.44236928 -0.38228795 -0.09504562 -0.01654623 -0.20154624\n",
            "  0.05798606  0.09078461 -0.11978121  0.07408946  0.23773715 -0.03053869\n",
            " -0.48340663 -0.4572863   0.0362952   0.22749425  0.4805658  -0.10722037\n",
            "  0.21034473  0.05425126 -0.21052934  0.20922962 -0.43067953  0.00781999\n",
            "  0.03705406 -0.0921493  -0.04347123  0.05175016 -0.34660903  0.11639781\n",
            "  0.1780188  -0.06070532  0.03976007 -0.17151292  0.13564523  0.06340863\n",
            " -0.1880876  -0.07220318  0.48094064  0.01408794 -0.1173821  -0.11730593\n",
            "  0.2202831   0.0797016 ]\n",
            "\n",
            " --------------------\n",
            "\n",
            "0.98972374 0.9897236227989197\n",
            "\n",
            " --------------------\n",
            "\n",
            "\n",
            " --------------------\n",
            "\n",
            "generally [-0.12006604 -0.06610802 -0.05681382  0.07560445 -0.04821874 -0.14935559\n",
            "  0.27642623  0.37561536 -0.30151108 -0.08281062 -0.04215377 -0.15819182\n",
            "  0.03229797  0.07145996 -0.06142703  0.11850243  0.21631666 -0.00945428\n",
            " -0.45501828 -0.38911265  0.0280378   0.2259447   0.42605618 -0.08017037\n",
            "  0.13913856  0.05692291 -0.14767492  0.14812887 -0.3717014   0.05236234\n",
            " -0.00973422 -0.09233892 -0.04983556  0.04775049 -0.35856012  0.1022274\n",
            "  0.2058258  -0.00800324 -0.0170449  -0.15062253  0.17545015  0.06244611\n",
            " -0.20152538 -0.05366757  0.39993513 -0.01978825 -0.10833131 -0.14665008\n",
            "  0.24912918  0.0618004 ]\n",
            "\n",
            " --------------------\n",
            "\n",
            "0.98935944 0.9893593788146973\n",
            "\n",
            " --------------------\n",
            "\n",
            "\n",
            " --------------------\n",
            "\n",
            "crust [-0.24887359 -0.10603648 -0.06872565  0.17339756 -0.06286187 -0.40645754\n",
            "  0.56907135  0.79534996 -0.7043551  -0.13443606  0.0194079  -0.387994\n",
            "  0.03238896  0.18337531 -0.22377317  0.13911456  0.39934033 -0.03621215\n",
            " -0.8458928  -0.7084748   0.064544    0.44946742  0.83362234 -0.17520288\n",
            "  0.25350302  0.10399147 -0.31391007  0.35416776 -0.7572243   0.0133543\n",
            "  0.10854625 -0.22979693 -0.0458418   0.15116663 -0.6756658   0.21363313\n",
            "  0.2512463  -0.07651791  0.0283696  -0.30399525  0.20851882  0.14431883\n",
            " -0.38366973 -0.15172891  0.8537387  -0.03347803 -0.21754825 -0.29797497\n",
            "  0.44853896  0.128905  ]\n",
            "\n",
            " --------------------\n",
            "\n",
            "0.9889957 0.9889956712722778\n",
            "\n",
            " --------------------\n",
            "\n",
            "\n",
            " --------------------\n",
            "\n",
            "fabulous [-0.18303932 -0.09637493  0.00422147  0.10708034 -0.15652134 -0.28705537\n",
            "  0.52048784  0.6903367  -0.59014374 -0.12568623 -0.03054996 -0.36362734\n",
            "  0.06985268  0.14909263 -0.1983516   0.19979642  0.34523275  0.02511587\n",
            " -0.7371928  -0.6699504   0.09268674  0.3852476   0.7868368  -0.12311222\n",
            "  0.2762802   0.09976884 -0.32210428  0.30178204 -0.65092397  0.01005521\n",
            "  0.08772589 -0.16109356 -0.0767521   0.06794774 -0.5871481   0.16322768\n",
            "  0.40412572 -0.04300417  0.07201736 -0.33336097  0.25255057  0.09150758\n",
            " -0.35316277 -0.13267411  0.7279927  -0.01153352 -0.2029068  -0.2563681\n",
            "  0.44175613  0.10925604]\n",
            "\n",
            " --------------------\n",
            "\n",
            "0.98888814 0.9888882637023926\n",
            "\n",
            " --------------------\n",
            "\n"
          ]
        }
      ]
    },
    {
      "cell_type": "code",
      "source": [
        "weights = w2v_model.wv.vectors"
      ],
      "metadata": {
        "id": "UTQkrAghAzeK"
      },
      "execution_count": 51,
      "outputs": []
    },
    {
      "cell_type": "code",
      "source": [
        "weights.shape\n",
        "weights[0]"
      ],
      "metadata": {
        "colab": {
          "base_uri": "https://localhost:8080/"
        },
        "id": "vNq_-PJVBweS",
        "outputId": "7261ab2d-1f1d-4578-9d09-33b11c664692"
      },
      "execution_count": 54,
      "outputs": [
        {
          "output_type": "execute_result",
          "data": {
            "text/plain": [
              "array([-0.42927435, -0.57361734,  0.40735415,  0.48028034, -0.866094  ,\n",
              "       -0.09657328,  1.0545957 ,  1.811931  , -1.3296527 , -0.16413584,\n",
              "        0.7615492 , -0.07932679, -0.05488338,  0.34791225, -0.36688027,\n",
              "        0.1099354 ,  0.33296198, -0.53797287, -1.3405604 , -1.1849711 ,\n",
              "        0.29314274,  0.7056926 ,  1.4635384 , -0.02619511,  1.1557313 ,\n",
              "       -0.0769943 , -0.38515338,  0.7423464 , -1.559188  ,  0.21903718,\n",
              "       -0.07529634, -0.64063954,  0.0069312 ,  0.25994667, -1.8412164 ,\n",
              "        0.8509773 ,  0.924622  , -0.20838198,  0.04741691, -1.3580401 ,\n",
              "       -0.35339665,  0.63397694, -1.1730269 , -0.43532106,  1.3407277 ,\n",
              "       -0.8692983 , -0.58477366, -0.6698204 ,  1.1364765 ,  1.0758246 ],\n",
              "      dtype=float32)"
            ]
          },
          "metadata": {},
          "execution_count": 54
        }
      ]
    },
    {
      "cell_type": "code",
      "source": [
        "# prompt: sample a random key from dict key_to_index\n",
        "\n",
        "import random\n",
        "\n",
        "random_word = random.choice(list(w2v_model.wv.key_to_index.keys()))\n",
        "random_word\n"
      ],
      "metadata": {
        "colab": {
          "base_uri": "https://localhost:8080/",
          "height": 36
        },
        "id": "EaXU7KGSB8Su",
        "outputId": "bbeb6ab5-c4d0-47da-860c-5b3478bcb99e"
      },
      "execution_count": 59,
      "outputs": [
        {
          "output_type": "execute_result",
          "data": {
            "text/plain": [
              "'ph'"
            ],
            "application/vnd.google.colaboratory.intrinsic+json": {
              "type": "string"
            }
          },
          "metadata": {},
          "execution_count": 59
        }
      ]
    },
    {
      "cell_type": "code",
      "source": [
        "id_of_word = w2v_model.wv.key_to_index[random_word]\n",
        "id_of_word"
      ],
      "metadata": {
        "colab": {
          "base_uri": "https://localhost:8080/"
        },
        "id": "oxe9lk-wCCWD",
        "outputId": "cf7b11bc-d24d-4a42-b91e-33e831069e64"
      },
      "execution_count": 60,
      "outputs": [
        {
          "output_type": "execute_result",
          "data": {
            "text/plain": [
              "7790"
            ]
          },
          "metadata": {},
          "execution_count": 60
        }
      ]
    },
    {
      "cell_type": "code",
      "source": [
        "weights[id_of_word]"
      ],
      "metadata": {
        "colab": {
          "base_uri": "https://localhost:8080/"
        },
        "id": "y5hIziTFCIeQ",
        "outputId": "e6dd3e0f-8a49-4e3b-a19c-d1257726e0ce"
      },
      "execution_count": 61,
      "outputs": [
        {
          "output_type": "execute_result",
          "data": {
            "text/plain": [
              "array([-0.02326492,  0.0122895 , -0.00565823, -0.00540835, -0.02422041,\n",
              "       -0.00623409,  0.02180829,  0.0356924 , -0.04104241, -0.01648421,\n",
              "        0.00437009, -0.02698006, -0.0056957 ,  0.00087074, -0.02639413,\n",
              "       -0.01426575, -0.00611942,  0.02706714, -0.03496563, -0.03839802,\n",
              "        0.00413834,  0.04605081,  0.03898484, -0.01042808,  0.04548173,\n",
              "        0.02467052, -0.02549961,  0.0145174 , -0.02534391, -0.00123294,\n",
              "        0.01942801,  0.00330026, -0.00279956, -0.00872624, -0.00310115,\n",
              "        0.01489886,  0.01149087,  0.00454736,  0.01539328, -0.04371914,\n",
              "        0.0653222 , -0.03204485, -0.01634298,  0.01484827,  0.04857803,\n",
              "        0.01349846,  0.00623626,  0.00948903,  0.0153308 , -0.03314719],\n",
              "      dtype=float32)"
            ]
          },
          "metadata": {},
          "execution_count": 61
        }
      ]
    },
    {
      "cell_type": "code",
      "source": [
        "w2v_model.wv.get_vector(random_word)"
      ],
      "metadata": {
        "colab": {
          "base_uri": "https://localhost:8080/"
        },
        "id": "wtmcBQUfCOOx",
        "outputId": "32139629-3bdf-4e02-97b9-92ef739377c9"
      },
      "execution_count": 62,
      "outputs": [
        {
          "output_type": "execute_result",
          "data": {
            "text/plain": [
              "array([-0.02326492,  0.0122895 , -0.00565823, -0.00540835, -0.02422041,\n",
              "       -0.00623409,  0.02180829,  0.0356924 , -0.04104241, -0.01648421,\n",
              "        0.00437009, -0.02698006, -0.0056957 ,  0.00087074, -0.02639413,\n",
              "       -0.01426575, -0.00611942,  0.02706714, -0.03496563, -0.03839802,\n",
              "        0.00413834,  0.04605081,  0.03898484, -0.01042808,  0.04548173,\n",
              "        0.02467052, -0.02549961,  0.0145174 , -0.02534391, -0.00123294,\n",
              "        0.01942801,  0.00330026, -0.00279956, -0.00872624, -0.00310115,\n",
              "        0.01489886,  0.01149087,  0.00454736,  0.01539328, -0.04371914,\n",
              "        0.0653222 , -0.03204485, -0.01634298,  0.01484827,  0.04857803,\n",
              "        0.01349846,  0.00623626,  0.00948903,  0.0153308 , -0.03314719],\n",
              "      dtype=float32)"
            ]
          },
          "metadata": {},
          "execution_count": 62
        }
      ]
    },
    {
      "cell_type": "code",
      "source": [],
      "metadata": {
        "id": "mFYnBsnhCTaQ"
      },
      "execution_count": null,
      "outputs": []
    },
    {
      "cell_type": "markdown",
      "source": [
        "## Way 1 of doing NLP (no one dows this)"
      ],
      "metadata": {
        "id": "vnSzvCBaCdvh"
      }
    },
    {
      "cell_type": "code",
      "source": [
        "def get_max_review_length(text):\n",
        "  max_length = 0\n",
        "  for review in text:\n",
        "    if len(review) > max_length:\n",
        "      max_length = len(review)\n",
        "  return max_length\n",
        "\n",
        "max_review_length = get_max_review_length(text)\n",
        "max_review_length"
      ],
      "metadata": {
        "colab": {
          "base_uri": "https://localhost:8080/"
        },
        "id": "EZ90tFumCuB8",
        "outputId": "e46640e8-6b35-47ad-d825-6200b4d2c043"
      },
      "execution_count": 64,
      "outputs": [
        {
          "output_type": "execute_result",
          "data": {
            "text/plain": [
              "841"
            ]
          },
          "metadata": {},
          "execution_count": 64
        }
      ]
    },
    {
      "cell_type": "code",
      "source": [
        "X = np.zeros((len(text), max_review_length, 50))"
      ],
      "metadata": {
        "id": "pGxADwGZCf_u"
      },
      "execution_count": 65,
      "outputs": []
    },
    {
      "cell_type": "code",
      "source": [
        "for row_ix, review in enumerate(text):\n",
        "  for col_ix, word in enumerate(review):\n",
        "      if word not in w2v_model.wv.key_to_index:\n",
        "        word = '[UNK]'\n",
        "      X[row_ix, col_ix] = w2v_model.wv.get_vector(word)"
      ],
      "metadata": {
        "id": "YimPQhWyC-jm"
      },
      "execution_count": 66,
      "outputs": []
    },
    {
      "cell_type": "code",
      "source": [
        "X.shape  # ( review, word, rep of review in w2v)"
      ],
      "metadata": {
        "colab": {
          "base_uri": "https://localhost:8080/"
        },
        "id": "InXY3cLPDYAz",
        "outputId": "52dae6f7-804b-4395-82d4-3a1ade5422b0"
      },
      "execution_count": null,
      "outputs": [
        {
          "output_type": "execute_result",
          "data": {
            "text/plain": [
              "(1000, 841, 50)"
            ]
          },
          "metadata": {},
          "execution_count": 55
        }
      ]
    },
    {
      "cell_type": "markdown",
      "source": [
        "## Way 2 (Everyone does this)"
      ],
      "metadata": {
        "id": "-BBL3Ov4DwEY"
      }
    },
    {
      "cell_type": "code",
      "source": [
        "weights = torch.tensor(w2v_model.wv.vectors)\n",
        "vocab_size, embedding_dim = weights.shape\n",
        "X = np.zeros((len(text), max_review_length))"
      ],
      "metadata": {
        "id": "X8_O6K92DcKa"
      },
      "execution_count": 68,
      "outputs": []
    },
    {
      "cell_type": "code",
      "source": [
        "weights.dtype"
      ],
      "metadata": {
        "colab": {
          "base_uri": "https://localhost:8080/"
        },
        "id": "o0fc6QNYJjIt",
        "outputId": "efc4b9a5-0399-4ee4-e5cd-11740b105a0d"
      },
      "execution_count": null,
      "outputs": [
        {
          "output_type": "execute_result",
          "data": {
            "text/plain": [
              "torch.float32"
            ]
          },
          "metadata": {},
          "execution_count": 76
        }
      ]
    },
    {
      "cell_type": "code",
      "source": [
        "vocab_size, embedding_dim"
      ],
      "metadata": {
        "colab": {
          "base_uri": "https://localhost:8080/"
        },
        "id": "UA4RGcghI2pn",
        "outputId": "97f5067a-c53c-4cab-f8ae-d34295120bf7"
      },
      "execution_count": null,
      "outputs": [
        {
          "output_type": "execute_result",
          "data": {
            "text/plain": [
              "(9723, 50)"
            ]
          },
          "metadata": {},
          "execution_count": 77
        }
      ]
    },
    {
      "cell_type": "code",
      "source": [
        "X = np.zeros((len(text), max_review_length))\n",
        "for row_ix, review in enumerate(text):\n",
        "  for col_ix, word in enumerate(review):\n",
        "      if word not in w2v_model.wv.key_to_index:\n",
        "        token = 0\n",
        "      else:\n",
        "        token = w2v_model.wv.key_to_index[word]\n",
        "      X[row_ix, col_ix] = token"
      ],
      "metadata": {
        "id": "9LNSD2iVIL3e"
      },
      "execution_count": null,
      "outputs": []
    },
    {
      "cell_type": "code",
      "source": [
        "X_train = torch.tensor(X).to(torch.long)\n",
        "X_train"
      ],
      "metadata": {
        "colab": {
          "base_uri": "https://localhost:8080/"
        },
        "id": "rYIEPg6GIey3",
        "outputId": "75b4aeb8-7bdb-4b3e-b04f-4269abb1d395"
      },
      "execution_count": null,
      "outputs": [
        {
          "output_type": "execute_result",
          "data": {
            "text/plain": [
              "tensor([[  13,  423,  212,  ...,    0,    0,    0],\n",
              "        [  17,   64,  819,  ...,    0,    0,    0],\n",
              "        [  71,    0,  941,  ...,    0,    0,    0],\n",
              "        ...,\n",
              "        [  61,  110,  263,  ...,    0,    0,    0],\n",
              "        [ 675, 1403,    9,  ...,    0,    0,    0],\n",
              "        [3202,    6,   22,  ...,    0,    0,    0]])"
            ]
          },
          "metadata": {},
          "execution_count": 86
        }
      ]
    },
    {
      "cell_type": "code",
      "source": [
        "from torch.nn import Embedding, Linear, Sequential, LogSoftmax\n",
        "\n",
        "model = Sequential(\n",
        "    Embedding.from_pretrained(embeddings=weights, freeze=True, padding_idx=0)\n",
        ")\n"
      ],
      "metadata": {
        "id": "poCCqmfGIfO0"
      },
      "execution_count": null,
      "outputs": []
    },
    {
      "cell_type": "code",
      "source": [
        "response = model(X_train[:2])\n",
        "X_train[:2].shape, response.shape"
      ],
      "metadata": {
        "colab": {
          "base_uri": "https://localhost:8080/"
        },
        "id": "WeJYlDQCJPsc",
        "outputId": "be4adbd5-2338-44ac-f895-8dded086950c"
      },
      "execution_count": null,
      "outputs": [
        {
          "output_type": "execute_result",
          "data": {
            "text/plain": [
              "(torch.Size([2, 841]), torch.Size([2, 841, 50]))"
            ]
          },
          "metadata": {},
          "execution_count": 88
        }
      ]
    },
    {
      "cell_type": "code",
      "source": [
        "random_index_to_check = X_train[0][2]"
      ],
      "metadata": {
        "id": "2IsS7g9AJZUC"
      },
      "execution_count": null,
      "outputs": []
    },
    {
      "cell_type": "code",
      "source": [
        "random_index_to_check, w2v_model.wv.index_to_key[random_index_to_check]"
      ],
      "metadata": {
        "colab": {
          "base_uri": "https://localhost:8080/"
        },
        "id": "iFsmhb8VKncq",
        "outputId": "e1a1ff5b-d00e-40fd-ec1e-440ad724b8d9"
      },
      "execution_count": null,
      "outputs": [
        {
          "output_type": "execute_result",
          "data": {
            "text/plain": [
              "(tensor(212), 'took')"
            ]
          },
          "metadata": {},
          "execution_count": 91
        }
      ]
    },
    {
      "cell_type": "code",
      "source": [
        "w2v_model.wv.get_vector('took')"
      ],
      "metadata": {
        "colab": {
          "base_uri": "https://localhost:8080/"
        },
        "id": "LYosRB5jKu0p",
        "outputId": "6774d087-124a-4529-8386-ed28c76c6ebd"
      },
      "execution_count": null,
      "outputs": [
        {
          "output_type": "execute_result",
          "data": {
            "text/plain": [
              "array([-0.28980276, -0.24130622,  0.16393535,  0.35079327, -0.35429332,\n",
              "       -0.7192967 ,  0.975764  ,  1.0859263 , -0.9832944 ,  0.02724573,\n",
              "        0.140747  , -0.7413968 ,  0.16827437,  0.44623685, -0.37493804,\n",
              "        0.01568245,  0.45581055,  0.33517775, -0.9929629 , -0.88486826,\n",
              "        0.36816835,  0.48068637,  1.2302791 , -0.38737202,  0.860768  ,\n",
              "        0.32857955, -0.89379334,  0.7380525 , -0.87955624, -0.10983314,\n",
              "        0.7086394 , -0.01664973,  0.24551617,  0.1596724 , -0.59546345,\n",
              "        0.12640975,  0.4345531 , -0.19166999,  0.7300471 , -0.53412646,\n",
              "        0.445934  , -0.2913586 , -0.46171847, -0.25730205,  1.5941459 ,\n",
              "        0.11901267,  0.11724807, -0.6667303 ,  0.49652198,  0.07485989],\n",
              "      dtype=float32)"
            ]
          },
          "metadata": {},
          "execution_count": 92
        }
      ]
    },
    {
      "cell_type": "code",
      "source": [
        "list(model.named_parameters())[0][1][random_index_to_check]"
      ],
      "metadata": {
        "colab": {
          "base_uri": "https://localhost:8080/"
        },
        "id": "buR5mBkWKzZ_",
        "outputId": "c729a97a-5ebb-4166-de68-567b5fac19d8"
      },
      "execution_count": null,
      "outputs": [
        {
          "output_type": "execute_result",
          "data": {
            "text/plain": [
              "tensor([-0.2898, -0.2413,  0.1639,  0.3508, -0.3543, -0.7193,  0.9758,  1.0859,\n",
              "        -0.9833,  0.0272,  0.1407, -0.7414,  0.1683,  0.4462, -0.3749,  0.0157,\n",
              "         0.4558,  0.3352, -0.9930, -0.8849,  0.3682,  0.4807,  1.2303, -0.3874,\n",
              "         0.8608,  0.3286, -0.8938,  0.7381, -0.8796, -0.1098,  0.7086, -0.0166,\n",
              "         0.2455,  0.1597, -0.5955,  0.1264,  0.4346, -0.1917,  0.7300, -0.5341,\n",
              "         0.4459, -0.2914, -0.4617, -0.2573,  1.5941,  0.1190,  0.1172, -0.6667,\n",
              "         0.4965,  0.0749])"
            ]
          },
          "metadata": {},
          "execution_count": 103
        }
      ]
    },
    {
      "cell_type": "code",
      "source": [
        "response[0][2]"
      ],
      "metadata": {
        "colab": {
          "base_uri": "https://localhost:8080/"
        },
        "id": "3RuAZ2kqK3b7",
        "outputId": "06cd5eb2-66e1-43c4-c49f-7a6cb38fe29a"
      },
      "execution_count": null,
      "outputs": [
        {
          "output_type": "execute_result",
          "data": {
            "text/plain": [
              "tensor([-0.2898, -0.2413,  0.1639,  0.3508, -0.3543, -0.7193,  0.9758,  1.0859,\n",
              "        -0.9833,  0.0272,  0.1407, -0.7414,  0.1683,  0.4462, -0.3749,  0.0157,\n",
              "         0.4558,  0.3352, -0.9930, -0.8849,  0.3682,  0.4807,  1.2303, -0.3874,\n",
              "         0.8608,  0.3286, -0.8938,  0.7381, -0.8796, -0.1098,  0.7086, -0.0166,\n",
              "         0.2455,  0.1597, -0.5955,  0.1264,  0.4346, -0.1917,  0.7300, -0.5341,\n",
              "         0.4459, -0.2914, -0.4617, -0.2573,  1.5941,  0.1190,  0.1172, -0.6667,\n",
              "         0.4965,  0.0749])"
            ]
          },
          "metadata": {},
          "execution_count": 104
        }
      ]
    },
    {
      "cell_type": "markdown",
      "source": [
        "Let's make the model classifier"
      ],
      "metadata": {
        "id": "8YMtDRyHMMGa"
      }
    },
    {
      "cell_type": "code",
      "source": [
        "# prompt: generate MeanLayer from (nn.Module) that applies mean over axis=1\n",
        "\n",
        "import torch.nn as nn\n",
        "\n",
        "class MeanLayer(nn.Module):\n",
        "    def forward(self, x):\n",
        "        return torch.mean(x, dim=1)\n"
      ],
      "metadata": {
        "id": "t9mjj1xvMxrc"
      },
      "execution_count": null,
      "outputs": []
    },
    {
      "cell_type": "code",
      "source": [
        "model  = Sequential(\n",
        "    Embedding.from_pretrained(embeddings=weights, freeze=True, padding_idx=0),\n",
        "    # add layers to get better re[presentation per word\n",
        "\n",
        "    #pass from representation pof words (3 d) to rep of review (2d)\n",
        "\n",
        "    MeanLayer(),\n",
        "\n",
        "    # final part\n",
        "    Linear(in_features=embedding_dim, out_features=2), # 2 classes,\n",
        "    LogSoftmax(dim=1)\n",
        ")\n",
        "model"
      ],
      "metadata": {
        "colab": {
          "base_uri": "https://localhost:8080/"
        },
        "id": "cZD8yeaeL1t4",
        "outputId": "ce11270d-3fe1-4c5a-fd60-c143d8985a00"
      },
      "execution_count": null,
      "outputs": [
        {
          "output_type": "execute_result",
          "data": {
            "text/plain": [
              "Sequential(\n",
              "  (0): Embedding(9723, 50, padding_idx=0)\n",
              "  (1): MeanLayer()\n",
              "  (2): Linear(in_features=50, out_features=2, bias=True)\n",
              "  (3): LogSoftmax(dim=1)\n",
              ")"
            ]
          },
          "metadata": {},
          "execution_count": 108
        }
      ]
    },
    {
      "cell_type": "code",
      "source": [
        "model(X_train[:2]).shape"
      ],
      "metadata": {
        "colab": {
          "base_uri": "https://localhost:8080/"
        },
        "id": "O_EJo8EkMZTr",
        "outputId": "59d18f45-a9dc-4914-c057-74920b054b98"
      },
      "execution_count": null,
      "outputs": [
        {
          "output_type": "execute_result",
          "data": {
            "text/plain": [
              "torch.Size([2, 2])"
            ]
          },
          "metadata": {},
          "execution_count": 109
        }
      ]
    },
    {
      "cell_type": "code",
      "source": [],
      "metadata": {
        "id": "iG8v7SHGMex3"
      },
      "execution_count": null,
      "outputs": []
    }
  ]
}