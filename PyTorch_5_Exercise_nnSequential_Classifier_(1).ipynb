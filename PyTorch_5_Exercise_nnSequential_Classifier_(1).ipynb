{
  "cells": [
    {
      "cell_type": "markdown",
      "metadata": {
        "id": "view-in-github",
        "colab_type": "text"
      },
      "source": [
        "<a href=\"https://colab.research.google.com/github/Deeks900/GenAIBootcamp/blob/main/PyTorch_5_Exercise_nnSequential_Classifier_(1).ipynb\" target=\"_parent\"><img src=\"https://colab.research.google.com/assets/colab-badge.svg\" alt=\"Open In Colab\"/></a>"
      ]
    },
    {
      "cell_type": "markdown",
      "metadata": {
        "id": "vFnCDm9kpdW4"
      },
      "source": [
        "## Classify the concentric circles dataset using a not-so-deep neural network with non-linear activations"
      ]
    },
    {
      "cell_type": "markdown",
      "metadata": {
        "id": "dj5FZd7kpo6s"
      },
      "source": [
        "The following has your usual imports along with the data generation `circle` and data visualization `decision_boundary` functions predefined for you. You'll start by learning about `circle` and progress to learning about `decision_boundary` later, towards the end of the notebook."
      ]
    },
    {
      "cell_type": "code",
      "execution_count": 3,
      "metadata": {
        "id": "Xc1d4ZuFCmgW"
      },
      "outputs": [],
      "source": [
        "import torch as pt\n",
        "import torch\n",
        "from torch import nn\n",
        "import matplotlib.pyplot as plt\n",
        "import math\n",
        "%matplotlib inline\n",
        "pt.manual_seed(1337);\n",
        "NUM =100\n",
        "def circle(points = NUM, radius_lower = 9., radius_upper = 10.):\n",
        "  radius = pt.zeros(points).uniform_(radius_lower, radius_upper)\n",
        "  angle = pt.zeros(points).uniform_(0, 2 * math.pi)\n",
        "\n",
        "  x = radius * pt.sin(angle)\n",
        "  y = radius * pt.cos(angle)\n",
        "\n",
        "  return x,y\n",
        "\n",
        "def decision_boundary(forward_fn, x_min = -15, x_max = 15, y_min = -15., y_max = 15., step = 0.25):\n",
        "  import numpy as np\n",
        "  xx, yy = np.meshgrid(np.arange(x_min, x_max, step),\n",
        "                      np.arange(y_min, y_max, step))\n",
        "\n",
        "  Xg = np.hstack( (xx.ravel()[:, None], yy.ravel()[:, None]) )\n",
        "\n",
        "\n",
        "  X_test = pt.from_numpy(Xg).to(pt.float)\n",
        "  y_test = forward_fn(X_test).argmax(dim = 1).detach().numpy()\n",
        "\n",
        "  Z = -1 * y_test.reshape(xx.shape)\n",
        "\n",
        "  fig = plt.figure()\n",
        "  plt.axis(\"equal\")\n",
        "  plt.contourf(xx, yy, Z, cmap=plt.cm.Spectral, alpha=0.4);\n",
        "  plt.scatter(X[:NUM, 0], X[:NUM, 1], color = 'orange');\n",
        "  plt.scatter(X[NUM:, 0], X[NUM:, 1])"
      ]
    },
    {
      "cell_type": "markdown",
      "metadata": {
        "id": "5JI-0dRHqY-s"
      },
      "source": [
        "## Generate a tuple of tensors for the `x` and `y` coordinates of the inner circle consisting of `100` data points by using the `circle` function.\n",
        "\n",
        "For example, if you use\n",
        "\n",
        "<code>\n",
        "  circle(100, radius_lower = 6., radius_upper=9.)\n",
        "</code>\n",
        "\n",
        "The function is going to return a tuple with two tensors, each with a shape of `torch.Size([100])`"
      ]
    },
    {
      "cell_type": "code",
      "execution_count": 4,
      "metadata": {
        "id": "Y6z8oIC9qCEZ",
        "colab": {
          "base_uri": "https://localhost:8080/"
        },
        "outputId": "a541fd58-d43e-47fb-9ec7-6c4c8d9ef343"
      },
      "outputs": [
        {
          "output_type": "stream",
          "name": "stdout",
          "text": [
            "tensor([ 0.3046, -1.4043,  7.7368, -5.6713, -0.6979, -0.5920,  6.7577,  6.6438,\n",
            "         6.3169,  6.5071, -7.3682, -7.7425, -5.9213,  1.9969,  5.9280, -5.0974,\n",
            "         7.5000,  6.3981, -6.8285, -7.0145,  8.5098,  7.0707,  2.7654, -2.9142,\n",
            "        -5.8586,  4.6811, -2.4855, -8.2082, -5.0934, -7.8707, -6.3787,  6.5070,\n",
            "        -4.5503, -6.4472,  7.4478, -6.8768, -0.0980,  0.3102,  4.8415,  5.6184,\n",
            "         1.7339, -3.2833,  6.1513,  3.8680, -2.3047,  4.2898, -6.1533,  3.3162,\n",
            "         3.6273,  8.2488, -8.0854, -3.3246, -3.2973,  1.5498,  5.6141, -5.2677,\n",
            "        -6.3086, -7.2289,  5.8218, -4.0896,  6.3585, -4.3898,  0.5452, -2.9338,\n",
            "        -0.5381,  4.7743, -4.3960, -4.7954,  0.0405,  7.2106, -5.7707, -0.6832,\n",
            "        -3.0849, -0.9661, -6.2791, -6.6893,  4.5320, -6.3171,  6.7196, -3.1073,\n",
            "         5.0174, -3.1313, -6.9901, -6.7750,  7.7415,  5.2443,  7.3763, -6.2418,\n",
            "        -4.0966,  7.0170,  1.7626,  5.8351,  0.8715, -7.6343, -5.3141, -6.9974,\n",
            "        -8.2524,  1.0395,  3.7228,  6.8359])\n",
            "tensor([ 6.2275,  7.3540,  1.4377,  4.5443, -6.5642, -6.0571, -3.8052,  4.6161,\n",
            "         1.6482, -1.8993, -3.4259,  0.0673,  1.7419,  8.0568, -6.2767,  4.3944,\n",
            "         2.1481,  5.0060,  3.1752, -1.7087, -1.6017,  0.2005,  8.2371, -8.4006,\n",
            "         1.4874,  6.7416, -7.9876,  3.2834,  5.3637,  3.2447,  0.1625, -1.3199,\n",
            "        -5.1644,  2.9812,  0.1247,  4.1376, -7.5672,  7.6544,  6.0007, -3.7307,\n",
            "         7.6171,  7.4301, -1.0296, -7.3309,  7.9865, -4.5081,  4.6755,  7.3418,\n",
            "        -7.9406,  0.9667,  0.9477, -5.2047,  7.6088,  8.7629, -7.0112, -6.5408,\n",
            "        -0.6800, -3.4656, -2.3029,  6.6563, -3.5302,  4.5197,  6.2281,  7.0199,\n",
            "         8.7018,  4.8810,  4.1964, -4.6100, -8.0416,  0.2331, -2.0615,  7.3143,\n",
            "        -6.2144,  8.5964, -2.7585, -1.1884, -6.7013, -1.6269,  2.7368, -6.7155,\n",
            "        -7.3177,  6.9925,  2.4058,  2.0682, -2.7873, -5.7517,  1.6920,  0.8069,\n",
            "         4.4733,  2.9967, -5.9547,  6.2489,  7.5728,  0.6040,  6.6829, -3.9529,\n",
            "        -0.4357, -7.7596,  4.9153,  4.6656])\n"
          ]
        }
      ],
      "source": [
        "x, y = circle(NUM, radius_lower = 6., radius_upper=9.)\n",
        "print(x)\n",
        "print(y)"
      ]
    },
    {
      "cell_type": "markdown",
      "metadata": {
        "id": "deqKKSxFrEaa"
      },
      "source": [
        "## Figure out how to concatenate the `x` and `y` coordinates from the `circle` method into a single tensor\n",
        "\n",
        "The concatenated tensor should have a of shape `torch.Size([100, 2])`"
      ]
    },
    {
      "cell_type": "code",
      "execution_count": 5,
      "metadata": {
        "id": "_u3Q57maq_fw",
        "colab": {
          "base_uri": "https://localhost:8080/"
        },
        "outputId": "7da0124f-2a78-4a7f-ed01-202407ea615b"
      },
      "outputs": [
        {
          "output_type": "execute_result",
          "data": {
            "text/plain": [
              "tensor([[ 0.3046,  6.2275],\n",
              "        [-1.4043,  7.3540],\n",
              "        [ 7.7368,  1.4377],\n",
              "        [-5.6713,  4.5443],\n",
              "        [-0.6979, -6.5642],\n",
              "        [-0.5920, -6.0571],\n",
              "        [ 6.7577, -3.8052],\n",
              "        [ 6.6438,  4.6161],\n",
              "        [ 6.3169,  1.6482],\n",
              "        [ 6.5071, -1.8993],\n",
              "        [-7.3682, -3.4259],\n",
              "        [-7.7425,  0.0673],\n",
              "        [-5.9213,  1.7419],\n",
              "        [ 1.9969,  8.0568],\n",
              "        [ 5.9280, -6.2767],\n",
              "        [-5.0974,  4.3944],\n",
              "        [ 7.5000,  2.1481],\n",
              "        [ 6.3981,  5.0060],\n",
              "        [-6.8285,  3.1752],\n",
              "        [-7.0145, -1.7087],\n",
              "        [ 8.5098, -1.6017],\n",
              "        [ 7.0707,  0.2005],\n",
              "        [ 2.7654,  8.2371],\n",
              "        [-2.9142, -8.4006],\n",
              "        [-5.8586,  1.4874],\n",
              "        [ 4.6811,  6.7416],\n",
              "        [-2.4855, -7.9876],\n",
              "        [-8.2082,  3.2834],\n",
              "        [-5.0934,  5.3637],\n",
              "        [-7.8707,  3.2447],\n",
              "        [-6.3787,  0.1625],\n",
              "        [ 6.5070, -1.3199],\n",
              "        [-4.5503, -5.1644],\n",
              "        [-6.4472,  2.9812],\n",
              "        [ 7.4478,  0.1247],\n",
              "        [-6.8768,  4.1376],\n",
              "        [-0.0980, -7.5672],\n",
              "        [ 0.3102,  7.6544],\n",
              "        [ 4.8415,  6.0007],\n",
              "        [ 5.6184, -3.7307],\n",
              "        [ 1.7339,  7.6171],\n",
              "        [-3.2833,  7.4301],\n",
              "        [ 6.1513, -1.0296],\n",
              "        [ 3.8680, -7.3309],\n",
              "        [-2.3047,  7.9865],\n",
              "        [ 4.2898, -4.5081],\n",
              "        [-6.1533,  4.6755],\n",
              "        [ 3.3162,  7.3418],\n",
              "        [ 3.6273, -7.9406],\n",
              "        [ 8.2488,  0.9667],\n",
              "        [-8.0854,  0.9477],\n",
              "        [-3.3246, -5.2047],\n",
              "        [-3.2973,  7.6088],\n",
              "        [ 1.5498,  8.7629],\n",
              "        [ 5.6141, -7.0112],\n",
              "        [-5.2677, -6.5408],\n",
              "        [-6.3086, -0.6800],\n",
              "        [-7.2289, -3.4656],\n",
              "        [ 5.8218, -2.3029],\n",
              "        [-4.0896,  6.6563],\n",
              "        [ 6.3585, -3.5302],\n",
              "        [-4.3898,  4.5197],\n",
              "        [ 0.5452,  6.2281],\n",
              "        [-2.9338,  7.0199],\n",
              "        [-0.5381,  8.7018],\n",
              "        [ 4.7743,  4.8810],\n",
              "        [-4.3960,  4.1964],\n",
              "        [-4.7954, -4.6100],\n",
              "        [ 0.0405, -8.0416],\n",
              "        [ 7.2106,  0.2331],\n",
              "        [-5.7707, -2.0615],\n",
              "        [-0.6832,  7.3143],\n",
              "        [-3.0849, -6.2144],\n",
              "        [-0.9661,  8.5964],\n",
              "        [-6.2791, -2.7585],\n",
              "        [-6.6893, -1.1884],\n",
              "        [ 4.5320, -6.7013],\n",
              "        [-6.3171, -1.6269],\n",
              "        [ 6.7196,  2.7368],\n",
              "        [-3.1073, -6.7155],\n",
              "        [ 5.0174, -7.3177],\n",
              "        [-3.1313,  6.9925],\n",
              "        [-6.9901,  2.4058],\n",
              "        [-6.7750,  2.0682],\n",
              "        [ 7.7415, -2.7873],\n",
              "        [ 5.2443, -5.7517],\n",
              "        [ 7.3763,  1.6920],\n",
              "        [-6.2418,  0.8069],\n",
              "        [-4.0966,  4.4733],\n",
              "        [ 7.0170,  2.9967],\n",
              "        [ 1.7626, -5.9547],\n",
              "        [ 5.8351,  6.2489],\n",
              "        [ 0.8715,  7.5728],\n",
              "        [-7.6343,  0.6040],\n",
              "        [-5.3141,  6.6829],\n",
              "        [-6.9974, -3.9529],\n",
              "        [-8.2524, -0.4357],\n",
              "        [ 1.0395, -7.7596],\n",
              "        [ 3.7228,  4.9153],\n",
              "        [ 6.8359,  4.6656]])"
            ]
          },
          "metadata": {},
          "execution_count": 5
        }
      ],
      "source": [
        "ic = torch.cat([x[:, None], y[:, None]], dim=1)\n",
        "ic = torch.stack([x, y], dim=1)\n",
        "ic"
      ]
    },
    {
      "cell_type": "markdown",
      "metadata": {
        "id": "FJOA1M4lrTnq"
      },
      "source": [
        "## Do the same for the other circle\n",
        "\n",
        "For example, you can use\n",
        "\n",
        "<code>\n",
        "    circle(100, radius_lower = 13., radius_upper=14.)\n",
        "</code>\n",
        "\n",
        "to generate an outer circle.\n",
        "\n",
        "Don't forget to create a `torch.Size([100, 2])` tensor for the outer circle."
      ]
    },
    {
      "cell_type": "code",
      "execution_count": 6,
      "metadata": {
        "id": "c_vSClqirvDF",
        "colab": {
          "base_uri": "https://localhost:8080/"
        },
        "outputId": "b7416452-e765-4dec-9f81-4ecef60348bb"
      },
      "outputs": [
        {
          "output_type": "execute_result",
          "data": {
            "text/plain": [
              "tensor([[  9.4622,  -8.9366],\n",
              "        [-13.3580,  -3.1205],\n",
              "        [  5.1084, -12.0505],\n",
              "        [  1.0857, -13.0117],\n",
              "        [-10.8878,  -8.5826],\n",
              "        [ -8.9396,  10.3279],\n",
              "        [ -9.4515,  -9.6803],\n",
              "        [ 10.9079,   7.1324],\n",
              "        [-13.1486,  -0.4898],\n",
              "        [ 12.9559,  -3.7023],\n",
              "        [-12.8643,  -2.3798],\n",
              "        [ -4.7864,  12.4283],\n",
              "        [-12.8958,   3.3126],\n",
              "        [  8.0725, -10.4734],\n",
              "        [-11.4236,  -7.3845],\n",
              "        [ 13.1997,   1.5770],\n",
              "        [-10.5134,   7.9237],\n",
              "        [ 12.5752,  -4.5133],\n",
              "        [ -9.8014,   9.4496],\n",
              "        [  7.5302, -11.4003],\n",
              "        [ -2.6320,  13.6311],\n",
              "        [  1.9532,  12.9405],\n",
              "        [ 12.4155,   6.3232],\n",
              "        [ -0.8934,  13.8920],\n",
              "        [  8.1537,  10.6300],\n",
              "        [  0.8507,  13.6651],\n",
              "        [ 12.4627,   4.2668],\n",
              "        [ 11.8186,   7.1870],\n",
              "        [ -7.4150,  11.1377],\n",
              "        [  0.6131, -13.2737],\n",
              "        [ -6.3439,  11.4595],\n",
              "        [ -6.8438,  11.2520],\n",
              "        [  0.4216, -13.3415],\n",
              "        [ -4.3529, -13.0186],\n",
              "        [-10.7164,   7.7865],\n",
              "        [-12.0142,  -6.6340],\n",
              "        [ 13.3009,   3.4660],\n",
              "        [ -6.0167,  11.5376],\n",
              "        [ 13.3223,  -3.4032],\n",
              "        [-10.7927,  -8.3062],\n",
              "        [ -5.2070, -12.6624],\n",
              "        [ 11.5907,  -5.9252],\n",
              "        [ -5.5528,  12.3390],\n",
              "        [ 11.5559,  -7.4822],\n",
              "        [-12.8100,  -4.2987],\n",
              "        [ -4.1946, -13.1936],\n",
              "        [  4.0747,  12.4817],\n",
              "        [-11.9800,   6.4809],\n",
              "        [  2.8744, -13.6673],\n",
              "        [ -9.6526,   9.1266],\n",
              "        [  6.3591, -12.0630],\n",
              "        [-11.9223,  -6.6072],\n",
              "        [  3.6681,  12.6718],\n",
              "        [-13.6776,   1.1589],\n",
              "        [ -5.1322, -12.7522],\n",
              "        [ 12.7849,   3.8728],\n",
              "        [ -2.5432,  13.6023],\n",
              "        [ -1.8374, -13.3340],\n",
              "        [ -7.9399,  11.0952],\n",
              "        [-13.7555,  -1.3820],\n",
              "        [ -3.6452,  13.3654],\n",
              "        [  8.4171,  10.2902],\n",
              "        [  2.5372,  13.4322],\n",
              "        [ 11.5797,  -7.0490],\n",
              "        [  8.6631, -10.7271],\n",
              "        [  6.6273,  11.7279],\n",
              "        [-11.8908,  -6.7096],\n",
              "        [ 11.0982,   8.5196],\n",
              "        [  6.0839,  12.4068],\n",
              "        [-10.5557,   8.7921],\n",
              "        [ 10.9614,   8.6331],\n",
              "        [ -5.1995, -12.7646],\n",
              "        [-13.2598,   0.2457],\n",
              "        [ 13.0361,   4.4667],\n",
              "        [  6.1252, -12.5735],\n",
              "        [ 13.7120,  -2.7341],\n",
              "        [  3.3813, -12.8191],\n",
              "        [  3.8838, -12.4097],\n",
              "        [ -1.0130,  13.3360],\n",
              "        [-10.4125,   9.3246],\n",
              "        [ 11.8083,  -6.9264],\n",
              "        [  9.0537,  10.4605],\n",
              "        [ -5.5690, -12.5285],\n",
              "        [  6.2060, -12.2808],\n",
              "        [  8.4965,  11.0815],\n",
              "        [ 13.1269,   2.6476],\n",
              "        [ -3.1223, -13.2560],\n",
              "        [  1.9858, -13.6644],\n",
              "        [-13.0260,   0.0545],\n",
              "        [ -1.8558,  13.4707],\n",
              "        [ 13.0136,   4.0585],\n",
              "        [  5.3535,  12.0093],\n",
              "        [-12.8483,   3.6299],\n",
              "        [-13.5816,  -1.0872],\n",
              "        [ 10.1137,   9.1337],\n",
              "        [-11.7602,  -6.5056],\n",
              "        [ 10.2932,   8.3202],\n",
              "        [-11.2590,   8.1237],\n",
              "        [ 10.5366,   8.3153],\n",
              "        [ -5.6200,  11.9208]])"
            ]
          },
          "metadata": {},
          "execution_count": 6
        }
      ],
      "source": [
        "x, y = circle(NUM, radius_lower = 13., radius_upper=14.)\n",
        "oc = torch.cat([x[:, None], y[:, None]], dim=1)\n",
        "oc = torch.stack([x, y], dim=1)\n",
        "oc"
      ]
    },
    {
      "cell_type": "markdown",
      "metadata": {
        "id": "QTk0JDEmr5yx"
      },
      "source": [
        "## Package the values for the circles into a single `X` tensor to use for training.\n",
        "\n",
        "Assuming that you used 100 data points per circle, you should end up with an `X` tensor shaped `torch.Size([200, 2])`"
      ]
    },
    {
      "cell_type": "code",
      "execution_count": 7,
      "metadata": {
        "id": "nQqi-88Sr6Hz",
        "colab": {
          "base_uri": "https://localhost:8080/"
        },
        "outputId": "fb851934-91b3-4315-9138-437425a0ddc3"
      },
      "outputs": [
        {
          "output_type": "execute_result",
          "data": {
            "text/plain": [
              "tensor([  9.4622, -13.3580,   5.1084,   1.0857, -10.8878,  -8.9396,  -9.4515,\n",
              "         10.9079, -13.1486,  12.9559, -12.8643,  -4.7864, -12.8958,   8.0725,\n",
              "        -11.4236,  13.1997, -10.5134,  12.5752,  -9.8014,   7.5302,  -2.6320,\n",
              "          1.9532,  12.4155,  -0.8934,   8.1537,   0.8507,  12.4627,  11.8186,\n",
              "         -7.4150,   0.6131,  -6.3439,  -6.8438,   0.4216,  -4.3529, -10.7164,\n",
              "        -12.0142,  13.3009,  -6.0167,  13.3223, -10.7927,  -5.2070,  11.5907,\n",
              "         -5.5528,  11.5559, -12.8100,  -4.1946,   4.0747, -11.9800,   2.8744,\n",
              "         -9.6526,   6.3591, -11.9223,   3.6681, -13.6776,  -5.1322,  12.7849,\n",
              "         -2.5432,  -1.8374,  -7.9399, -13.7555,  -3.6452,   8.4171,   2.5372,\n",
              "         11.5797,   8.6631,   6.6273, -11.8908,  11.0982,   6.0839, -10.5557,\n",
              "         10.9614,  -5.1995, -13.2598,  13.0361,   6.1252,  13.7120,   3.3813,\n",
              "          3.8838,  -1.0130, -10.4125,  11.8083,   9.0537,  -5.5690,   6.2060,\n",
              "          8.4965,  13.1269,  -3.1223,   1.9858, -13.0260,  -1.8558,  13.0136,\n",
              "          5.3535, -12.8483, -13.5816,  10.1137, -11.7602,  10.2932, -11.2590,\n",
              "         10.5366,  -5.6200])"
            ]
          },
          "metadata": {},
          "execution_count": 7
        }
      ],
      "source": [
        "X = torch.cat([ic, oc], dim=0)\n",
        "x"
      ]
    },
    {
      "cell_type": "code",
      "source": [
        "X.shape"
      ],
      "metadata": {
        "colab": {
          "base_uri": "https://localhost:8080/"
        },
        "id": "HG62TFZpT00x",
        "outputId": "3490afcf-55f3-425d-d6ad-cf991adc53c1"
      },
      "execution_count": 8,
      "outputs": [
        {
          "output_type": "execute_result",
          "data": {
            "text/plain": [
              "torch.Size([200, 2])"
            ]
          },
          "metadata": {},
          "execution_count": 8
        }
      ]
    },
    {
      "cell_type": "markdown",
      "metadata": {
        "id": "_76vVNm9sKFx"
      },
      "source": [
        "Plot the circles using `scatter`.\n",
        "\n",
        "* **hint:** recall that you can use the `axis(\"equal\")` method to make the x and y axes equal"
      ]
    },
    {
      "cell_type": "code",
      "execution_count": 9,
      "metadata": {
        "id": "IXO_V4Bidn16",
        "colab": {
          "base_uri": "https://localhost:8080/",
          "height": 450
        },
        "outputId": "3db6f778-767f-4e37-b75e-a5ad4a044f15"
      },
      "outputs": [
        {
          "output_type": "execute_result",
          "data": {
            "text/plain": [
              "<matplotlib.collections.PathCollection at 0x79f4a2bff550>"
            ]
          },
          "metadata": {},
          "execution_count": 9
        },
        {
          "output_type": "display_data",
          "data": {
            "text/plain": [
              "<Figure size 640x480 with 1 Axes>"
            ],
            "image/png": "[encoded data removed]"
          },
          "metadata": {}
        }
      ],
      "source": [
        "# prompt: Plot the circles using scatter.\n",
        "\n",
        "import matplotlib.pyplot as plt\n",
        "plt.figure()\n",
        "plt.axis(\"equal\")\n",
        "plt.scatter(X[:NUM, 0], X[:NUM, 1], color = 'orange');\n",
        "plt.scatter(X[NUM:, 0], X[NUM:, 1])\n"
      ]
    },
    {
      "cell_type": "markdown",
      "metadata": {
        "id": "npXFl9QPtNVX"
      },
      "source": [
        "## Generate the `y` tensor with the classes for each of the circles.\n",
        "\n",
        "PyTorch loss function does not use one-hot encoding and instead relies on ordinal encoding, where each integer represents a different class. For example, one of your circles would be `0`, another circle `1`, next `2`, and so one.\n",
        "\n",
        "In this example you only have 2 circles, so use `0` for one of the circles and `1` for another. Your `y` tensor should have a shape of `torch.Size([200])`"
      ]
    },
    {
      "cell_type": "markdown",
      "source": [],
      "metadata": {
        "id": "vCwr45P4OlmQ"
      }
    },
    {
      "cell_type": "code",
      "execution_count": 10,
      "metadata": {
        "id": "WGbYkWovfo8s",
        "colab": {
          "base_uri": "https://localhost:8080/"
        },
        "outputId": "fffc9fee-fdf0-4e84-bbd7-43c22e9fbcf3"
      },
      "outputs": [
        {
          "output_type": "execute_result",
          "data": {
            "text/plain": [
              "tensor([0., 0., 0., 0., 0., 0., 0., 0., 0., 0., 0., 0., 0., 0., 0., 0., 0., 0.,\n",
              "        0., 0., 0., 0., 0., 0., 0., 0., 0., 0., 0., 0., 0., 0., 0., 0., 0., 0.,\n",
              "        0., 0., 0., 0., 0., 0., 0., 0., 0., 0., 0., 0., 0., 0., 0., 0., 0., 0.,\n",
              "        0., 0., 0., 0., 0., 0., 0., 0., 0., 0., 0., 0., 0., 0., 0., 0., 0., 0.,\n",
              "        0., 0., 0., 0., 0., 0., 0., 0., 0., 0., 0., 0., 0., 0., 0., 0., 0., 0.,\n",
              "        0., 0., 0., 0., 0., 0., 0., 0., 0., 0., 1., 1., 1., 1., 1., 1., 1., 1.,\n",
              "        1., 1., 1., 1., 1., 1., 1., 1., 1., 1., 1., 1., 1., 1., 1., 1., 1., 1.,\n",
              "        1., 1., 1., 1., 1., 1., 1., 1., 1., 1., 1., 1., 1., 1., 1., 1., 1., 1.,\n",
              "        1., 1., 1., 1., 1., 1., 1., 1., 1., 1., 1., 1., 1., 1., 1., 1., 1., 1.,\n",
              "        1., 1., 1., 1., 1., 1., 1., 1., 1., 1., 1., 1., 1., 1., 1., 1., 1., 1.,\n",
              "        1., 1., 1., 1., 1., 1., 1., 1., 1., 1., 1., 1., 1., 1., 1., 1., 1., 1.,\n",
              "        1., 1.])"
            ]
          },
          "metadata": {},
          "execution_count": 10
        }
      ],
      "source": [
        "y = torch.cat([torch.zeros(100), torch.ones(100)])\n",
        "y"
      ]
    },
    {
      "cell_type": "code",
      "source": [
        "y.shape"
      ],
      "metadata": {
        "colab": {
          "base_uri": "https://localhost:8080/"
        },
        "id": "CoUIbYr6OTYU",
        "outputId": "1a2ad911-1847-4f23-8218-e6daaaa398fe"
      },
      "execution_count": 11,
      "outputs": [
        {
          "output_type": "execute_result",
          "data": {
            "text/plain": [
              "torch.Size([200])"
            ]
          },
          "metadata": {},
          "execution_count": 11
        }
      ]
    },
    {
      "cell_type": "markdown",
      "metadata": {
        "id": "BtoxNL3-t30z"
      },
      "source": [
        "## Create a neural net using `nn.Sequential`.\n",
        "\n",
        "It should have a single hidden layer with 3 neurons. All `nn.Linear` layers should use `nn.ReLU` activation function.The output layer should have `nn.LogSoftmax` after the activation function.\n",
        "\n",
        "Don't forget that softmax assumes one-hot encoding for the outputs!"
      ]
    },
    {
      "cell_type": "code",
      "execution_count": 12,
      "metadata": {
        "id": "6M-TZcgAv8Zl"
      },
      "outputs": [],
      "source": [
        "model = nn.Sequential(\n",
        "    nn.Linear(2, 5),\n",
        "    nn.ReLU(),\n",
        "    nn.Linear(5, 3),\n",
        "    nn.ReLU(),\n",
        "    nn.Linear(3, 2),\n",
        "    nn.LogSoftmax(dim=1)\n",
        ")"
      ]
    },
    {
      "cell_type": "code",
      "source": [
        "torch.exp(model(X[:5]))"
      ],
      "metadata": {
        "colab": {
          "base_uri": "https://localhost:8080/"
        },
        "id": "Kil_dtKIUUqD",
        "outputId": "26303608-4c0e-47d2-bc1d-e119faff0bc3"
      },
      "execution_count": 13,
      "outputs": [
        {
          "output_type": "execute_result",
          "data": {
            "text/plain": [
              "tensor([[0.6451, 0.3549],\n",
              "        [0.5881, 0.4119],\n",
              "        [0.2184, 0.7816],\n",
              "        [0.4223, 0.5777],\n",
              "        [0.3144, 0.6856]], grad_fn=<ExpBackward0>)"
            ]
          },
          "metadata": {},
          "execution_count": 13
        }
      ]
    },
    {
      "cell_type": "markdown",
      "metadata": {
        "id": "SAmB0Fq2wAB7"
      },
      "source": [
        "## Implement the `forward` function.\n",
        "\n",
        "If your `nn.Sequential` is named `model`, then the forward pass can be as simple as returning `model(X)`."
      ]
    },
    {
      "cell_type": "code",
      "execution_count": 14,
      "metadata": {
        "id": "TjcW4Ww6OoFR"
      },
      "outputs": [],
      "source": [
        "def forward(X):\n",
        "  return model(X)"
      ]
    },
    {
      "cell_type": "markdown",
      "metadata": {
        "id": "lIpAkQm7wLN1"
      },
      "source": [
        "## Complete the implementation of the cross entropy loss\n",
        "\n",
        "If you used `nn.LogSoftmax` as the output layer of your model, you can use the negative log likelihood loss on the output of the softmax layer from `nn.functional.nll_loss`."
      ]
    },
    {
      "cell_type": "code",
      "execution_count": 15,
      "metadata": {
        "id": "8m87DmnKwgB_"
      },
      "outputs": [],
      "source": [
        "def loss(y_pred, y):\n",
        "  return nn.functional.nll_loss(y_pred, y)"
      ]
    },
    {
      "cell_type": "markdown",
      "metadata": {
        "id": "3sLVBemiwpsl"
      },
      "source": [
        "## Implement a `metric` method that computes the prediction accuracy\n",
        "\n",
        "The accuracy should be on a scale from `0.0` to `1.0`"
      ]
    },
    {
      "cell_type": "code",
      "execution_count": 16,
      "metadata": {
        "id": "NanRJR3ZxGlH"
      },
      "outputs": [],
      "source": [
        "def accuracy(y_pred, y):\n",
        "  return torch.sum((y_pred.argmax(dim=1) == y)) / len(y)"
      ]
    },
    {
      "cell_type": "code",
      "source": [
        "pt.exp(model(X[:5])), y[:5], accuracy(model(X[:5]), y[:5])"
      ],
      "metadata": {
        "colab": {
          "base_uri": "https://localhost:8080/"
        },
        "id": "IYrmUJW4VDZW",
        "outputId": "910e008e-c467-4320-bbac-1128441149b0"
      },
      "execution_count": 17,
      "outputs": [
        {
          "output_type": "execute_result",
          "data": {
            "text/plain": [
              "(tensor([[0.6451, 0.3549],\n",
              "         [0.5881, 0.4119],\n",
              "         [0.2184, 0.7816],\n",
              "         [0.4223, 0.5777],\n",
              "         [0.3144, 0.6856]], grad_fn=<ExpBackward0>),\n",
              " tensor([0., 0., 0., 0., 0.]),\n",
              " tensor(0.4000))"
            ]
          },
          "metadata": {},
          "execution_count": 17
        }
      ]
    },
    {
      "cell_type": "markdown",
      "metadata": {
        "id": "r2EH_XMsxJ7Y"
      },
      "source": [
        "## Create an instance of the `optim.AdamW` optimizer\n",
        "\n",
        "* **hint:** if you used `model` as the name of your instance of `nn.Sequential`, then `model.parameters()` can be used to create the optimizer"
      ]
    },
    {
      "cell_type": "code",
      "execution_count": 20,
      "metadata": {
        "id": "joFAHFZJxHrb"
      },
      "outputs": [],
      "source": [
        "optimizer = torch.optim.AdamW(model.parameters(), lr=0.01)"
      ]
    },
    {
      "cell_type": "markdown",
      "metadata": {
        "id": "lHG0JPNXyiNi"
      },
      "source": [
        "## Use the optimizer to discover the neural net weights for classification\n",
        "\n",
        "You may need to perform thousands of steps of gradient descent. Don't forget to properly perform the forward and backward passes. If your instance of `AdamW` is named `optimizer`, then you can perform a gradient descent step using `optimizer.step()`. To zero out the gradients in the model, you can use `optimizer.zero_grad()`."
      ]
    },
    {
      "cell_type": "code",
      "source": [
        "# run in GPU\n",
        "device = torch.device('cuda')\n",
        "model.to(device)\n",
        "X = X.to(device)\n",
        "y = y.to(device)"
      ],
      "metadata": {
        "id": "Wxrecm_dWHhr",
        "colab": {
          "base_uri": "https://localhost:8080/",
          "height": 391
        },
        "outputId": "99409732-affb-4a72-c05e-ead9cea092c8"
      },
      "execution_count": 21,
      "outputs": [
        {
          "output_type": "error",
          "ename": "RuntimeError",
          "evalue": "Found no NVIDIA driver on your system. Please check that you have an NVIDIA GPU and installed a driver from http://www.nvidia.com/Download/index.aspx",
          "traceback": [
            "\u001b[0;31m---------------------------------------------------------------------------\u001b[0m",
            "\u001b[0;31mRuntimeError\u001b[0m                              Traceback (most recent call last)",
            "\u001b[0;32m<ipython-input-21-3a62c60f3ef1>\u001b[0m in \u001b[0;36m<cell line: 0>\u001b[0;34m()\u001b[0m\n\u001b[1;32m      1\u001b[0m \u001b[0;31m# run in GPU\u001b[0m\u001b[0;34m\u001b[0m\u001b[0;34m\u001b[0m\u001b[0m\n\u001b[1;32m      2\u001b[0m \u001b[0mdevice\u001b[0m \u001b[0;34m=\u001b[0m \u001b[0mtorch\u001b[0m\u001b[0;34m.\u001b[0m\u001b[0mdevice\u001b[0m\u001b[0;34m(\u001b[0m\u001b[0;34m'cuda'\u001b[0m\u001b[0;34m)\u001b[0m\u001b[0;34m\u001b[0m\u001b[0;34m\u001b[0m\u001b[0m\n\u001b[0;32m----> 3\u001b[0;31m \u001b[0mmodel\u001b[0m\u001b[0;34m.\u001b[0m\u001b[0mto\u001b[0m\u001b[0;34m(\u001b[0m\u001b[0mdevice\u001b[0m\u001b[0;34m)\u001b[0m\u001b[0;34m\u001b[0m\u001b[0;34m\u001b[0m\u001b[0m\n\u001b[0m\u001b[1;32m      4\u001b[0m \u001b[0mX\u001b[0m \u001b[0;34m=\u001b[0m \u001b[0mX\u001b[0m\u001b[0;34m.\u001b[0m\u001b[0mto\u001b[0m\u001b[0;34m(\u001b[0m\u001b[0mdevice\u001b[0m\u001b[0;34m)\u001b[0m\u001b[0;34m\u001b[0m\u001b[0;34m\u001b[0m\u001b[0m\n\u001b[1;32m      5\u001b[0m \u001b[0my\u001b[0m \u001b[0;34m=\u001b[0m \u001b[0my\u001b[0m\u001b[0;34m.\u001b[0m\u001b[0mto\u001b[0m\u001b[0;34m(\u001b[0m\u001b[0mdevice\u001b[0m\u001b[0;34m)\u001b[0m\u001b[0;34m\u001b[0m\u001b[0;34m\u001b[0m\u001b[0m\n",
            "\u001b[0;32m/usr/local/lib/python3.11/dist-packages/torch/nn/modules/module.py\u001b[0m in \u001b[0;36mto\u001b[0;34m(self, *args, **kwargs)\u001b[0m\n\u001b[1;32m   1341\u001b[0m                     \u001b[0;32mraise\u001b[0m\u001b[0;34m\u001b[0m\u001b[0;34m\u001b[0m\u001b[0m\n\u001b[1;32m   1342\u001b[0m \u001b[0;34m\u001b[0m\u001b[0m\n\u001b[0;32m-> 1343\u001b[0;31m         \u001b[0;32mreturn\u001b[0m \u001b[0mself\u001b[0m\u001b[0;34m.\u001b[0m\u001b[0m_apply\u001b[0m\u001b[0;34m(\u001b[0m\u001b[0mconvert\u001b[0m\u001b[0;34m)\u001b[0m\u001b[0;34m\u001b[0m\u001b[0;34m\u001b[0m\u001b[0m\n\u001b[0m\u001b[1;32m   1344\u001b[0m \u001b[0;34m\u001b[0m\u001b[0m\n\u001b[1;32m   1345\u001b[0m     def register_full_backward_pre_hook(\n",
            "\u001b[0;32m/usr/local/lib/python3.11/dist-packages/torch/nn/modules/module.py\u001b[0m in \u001b[0;36m_apply\u001b[0;34m(self, fn, recurse)\u001b[0m\n\u001b[1;32m    901\u001b[0m         \u001b[0;32mif\u001b[0m \u001b[0mrecurse\u001b[0m\u001b[0;34m:\u001b[0m\u001b[0;34m\u001b[0m\u001b[0;34m\u001b[0m\u001b[0m\n\u001b[1;32m    902\u001b[0m             \u001b[0;32mfor\u001b[0m \u001b[0mmodule\u001b[0m \u001b[0;32min\u001b[0m \u001b[0mself\u001b[0m\u001b[0;34m.\u001b[0m\u001b[0mchildren\u001b[0m\u001b[0;34m(\u001b[0m\u001b[0;34m)\u001b[0m\u001b[0;34m:\u001b[0m\u001b[0;34m\u001b[0m\u001b[0;34m\u001b[0m\u001b[0m\n\u001b[0;32m--> 903\u001b[0;31m                 \u001b[0mmodule\u001b[0m\u001b[0;34m.\u001b[0m\u001b[0m_apply\u001b[0m\u001b[0;34m(\u001b[0m\u001b[0mfn\u001b[0m\u001b[0;34m)\u001b[0m\u001b[0;34m\u001b[0m\u001b[0;34m\u001b[0m\u001b[0m\n\u001b[0m\u001b[1;32m    904\u001b[0m \u001b[0;34m\u001b[0m\u001b[0m\n\u001b[1;32m    905\u001b[0m         \u001b[0;32mdef\u001b[0m \u001b[0mcompute_should_use_set_data\u001b[0m\u001b[0;34m(\u001b[0m\u001b[0mtensor\u001b[0m\u001b[0;34m,\u001b[0m \u001b[0mtensor_applied\u001b[0m\u001b[0;34m)\u001b[0m\u001b[0;34m:\u001b[0m\u001b[0;34m\u001b[0m\u001b[0;34m\u001b[0m\u001b[0m\n",
            "\u001b[0;32m/usr/local/lib/python3.11/dist-packages/torch/nn/modules/module.py\u001b[0m in \u001b[0;36m_apply\u001b[0;34m(self, fn, recurse)\u001b[0m\n\u001b[1;32m    928\u001b[0m             \u001b[0;31m# `with torch.no_grad():`\u001b[0m\u001b[0;34m\u001b[0m\u001b[0;34m\u001b[0m\u001b[0m\n\u001b[1;32m    929\u001b[0m             \u001b[0;32mwith\u001b[0m \u001b[0mtorch\u001b[0m\u001b[0;34m.\u001b[0m\u001b[0mno_grad\u001b[0m\u001b[0;34m(\u001b[0m\u001b[0;34m)\u001b[0m\u001b[0;34m:\u001b[0m\u001b[0;34m\u001b[0m\u001b[0;34m\u001b[0m\u001b[0m\n\u001b[0;32m--> 930\u001b[0;31m                 \u001b[0mparam_applied\u001b[0m \u001b[0;34m=\u001b[0m \u001b[0mfn\u001b[0m\u001b[0;34m(\u001b[0m\u001b[0mparam\u001b[0m\u001b[0;34m)\u001b[0m\u001b[0;34m\u001b[0m\u001b[0;34m\u001b[0m\u001b[0m\n\u001b[0m\u001b[1;32m    931\u001b[0m             \u001b[0mp_should_use_set_data\u001b[0m \u001b[0;34m=\u001b[0m \u001b[0mcompute_should_use_set_data\u001b[0m\u001b[0;34m(\u001b[0m\u001b[0mparam\u001b[0m\u001b[0;34m,\u001b[0m \u001b[0mparam_applied\u001b[0m\u001b[0;34m)\u001b[0m\u001b[0;34m\u001b[0m\u001b[0;34m\u001b[0m\u001b[0m\n\u001b[1;32m    932\u001b[0m \u001b[0;34m\u001b[0m\u001b[0m\n",
            "\u001b[0;32m/usr/local/lib/python3.11/dist-packages/torch/nn/modules/module.py\u001b[0m in \u001b[0;36mconvert\u001b[0;34m(t)\u001b[0m\n\u001b[1;32m   1327\u001b[0m                         \u001b[0mmemory_format\u001b[0m\u001b[0;34m=\u001b[0m\u001b[0mconvert_to_format\u001b[0m\u001b[0;34m,\u001b[0m\u001b[0;34m\u001b[0m\u001b[0;34m\u001b[0m\u001b[0m\n\u001b[1;32m   1328\u001b[0m                     )\n\u001b[0;32m-> 1329\u001b[0;31m                 return t.to(\n\u001b[0m\u001b[1;32m   1330\u001b[0m                     \u001b[0mdevice\u001b[0m\u001b[0;34m,\u001b[0m\u001b[0;34m\u001b[0m\u001b[0;34m\u001b[0m\u001b[0m\n\u001b[1;32m   1331\u001b[0m                     \u001b[0mdtype\u001b[0m \u001b[0;32mif\u001b[0m \u001b[0mt\u001b[0m\u001b[0;34m.\u001b[0m\u001b[0mis_floating_point\u001b[0m\u001b[0;34m(\u001b[0m\u001b[0;34m)\u001b[0m \u001b[0;32mor\u001b[0m \u001b[0mt\u001b[0m\u001b[0;34m.\u001b[0m\u001b[0mis_complex\u001b[0m\u001b[0;34m(\u001b[0m\u001b[0;34m)\u001b[0m \u001b[0;32melse\u001b[0m \u001b[0;32mNone\u001b[0m\u001b[0;34m,\u001b[0m\u001b[0;34m\u001b[0m\u001b[0;34m\u001b[0m\u001b[0m\n",
            "\u001b[0;32m/usr/local/lib/python3.11/dist-packages/torch/cuda/__init__.py\u001b[0m in \u001b[0;36m_lazy_init\u001b[0;34m()\u001b[0m\n\u001b[1;32m    317\u001b[0m         \u001b[0;32mif\u001b[0m \u001b[0;34m\"CUDA_MODULE_LOADING\"\u001b[0m \u001b[0;32mnot\u001b[0m \u001b[0;32min\u001b[0m \u001b[0mos\u001b[0m\u001b[0;34m.\u001b[0m\u001b[0menviron\u001b[0m\u001b[0;34m:\u001b[0m\u001b[0;34m\u001b[0m\u001b[0;34m\u001b[0m\u001b[0m\n\u001b[1;32m    318\u001b[0m             \u001b[0mos\u001b[0m\u001b[0;34m.\u001b[0m\u001b[0menviron\u001b[0m\u001b[0;34m[\u001b[0m\u001b[0;34m\"CUDA_MODULE_LOADING\"\u001b[0m\u001b[0;34m]\u001b[0m \u001b[0;34m=\u001b[0m \u001b[0;34m\"LAZY\"\u001b[0m\u001b[0;34m\u001b[0m\u001b[0;34m\u001b[0m\u001b[0m\n\u001b[0;32m--> 319\u001b[0;31m         \u001b[0mtorch\u001b[0m\u001b[0;34m.\u001b[0m\u001b[0m_C\u001b[0m\u001b[0;34m.\u001b[0m\u001b[0m_cuda_init\u001b[0m\u001b[0;34m(\u001b[0m\u001b[0;34m)\u001b[0m\u001b[0;34m\u001b[0m\u001b[0;34m\u001b[0m\u001b[0m\n\u001b[0m\u001b[1;32m    320\u001b[0m         \u001b[0;31m# Some of the queued calls may reentrantly call _lazy_init();\u001b[0m\u001b[0;34m\u001b[0m\u001b[0;34m\u001b[0m\u001b[0m\n\u001b[1;32m    321\u001b[0m         \u001b[0;31m# we need to just return without initializing in that case.\u001b[0m\u001b[0;34m\u001b[0m\u001b[0;34m\u001b[0m\u001b[0m\n",
            "\u001b[0;31mRuntimeError\u001b[0m: Found no NVIDIA driver on your system. Please check that you have an NVIDIA GPU and installed a driver from http://www.nvidia.com/Download/index.aspx"
          ]
        }
      ]
    },
    {
      "cell_type": "code",
      "execution_count": 22,
      "metadata": {
        "id": "36YBZELoYITn",
        "colab": {
          "base_uri": "https://localhost:8080/"
        },
        "outputId": "7b52c539-b7ac-4cf5-b94e-6afe923516af"
      },
      "outputs": [
        {
          "output_type": "stream",
          "name": "stdout",
          "text": [
            "epoch 0 loss 0.7231635451316833 accuracy 0.5450000166893005\n",
            "epoch 1 loss 0.6738869547843933 accuracy 0.5699999928474426\n",
            "epoch 2 loss 0.639184832572937 accuracy 0.5799999833106995\n",
            "epoch 3 loss 0.6152560114860535 accuracy 0.6050000190734863\n",
            "epoch 4 loss 0.6011095643043518 accuracy 0.6100000143051147\n",
            "epoch 5 loss 0.5939812660217285 accuracy 0.6600000262260437\n",
            "epoch 6 loss 0.5909121036529541 accuracy 0.675000011920929\n",
            "epoch 7 loss 0.5896883606910706 accuracy 0.6800000071525574\n",
            "epoch 8 loss 0.5881179571151733 accuracy 0.7200000286102295\n",
            "epoch 9 loss 0.5865412354469299 accuracy 0.7300000190734863\n",
            "epoch 10 loss 0.5839601755142212 accuracy 0.7599999904632568\n",
            "epoch 11 loss 0.5801534652709961 accuracy 0.7799999713897705\n",
            "epoch 12 loss 0.5754297375679016 accuracy 0.8199999928474426\n",
            "epoch 13 loss 0.5702961683273315 accuracy 0.8299999833106995\n",
            "epoch 14 loss 0.5652825236320496 accuracy 0.8149999976158142\n",
            "epoch 15 loss 0.5609022974967957 accuracy 0.800000011920929\n",
            "epoch 16 loss 0.5571796894073486 accuracy 0.7649999856948853\n",
            "epoch 17 loss 0.5540890693664551 accuracy 0.7450000047683716\n",
            "epoch 18 loss 0.551633894443512 accuracy 0.7400000095367432\n",
            "epoch 19 loss 0.5496286749839783 accuracy 0.7200000286102295\n",
            "epoch 20 loss 0.5477271676063538 accuracy 0.7049999833106995\n",
            "epoch 21 loss 0.545652449131012 accuracy 0.6949999928474426\n",
            "epoch 22 loss 0.5432497262954712 accuracy 0.6899999976158142\n",
            "epoch 23 loss 0.5404248237609863 accuracy 0.6850000023841858\n",
            "epoch 24 loss 0.537121593952179 accuracy 0.699999988079071\n",
            "epoch 25 loss 0.5333402752876282 accuracy 0.7099999785423279\n",
            "epoch 26 loss 0.5286083221435547 accuracy 0.7250000238418579\n",
            "epoch 27 loss 0.5234401822090149 accuracy 0.7300000190734863\n",
            "epoch 28 loss 0.5182424783706665 accuracy 0.75\n",
            "epoch 29 loss 0.5134073495864868 accuracy 0.7749999761581421\n",
            "epoch 30 loss 0.5088874697685242 accuracy 0.800000011920929\n",
            "epoch 31 loss 0.5047616362571716 accuracy 0.8299999833106995\n",
            "epoch 32 loss 0.5007741451263428 accuracy 0.8399999737739563\n",
            "epoch 33 loss 0.4968448281288147 accuracy 0.8399999737739563\n",
            "epoch 34 loss 0.49258366227149963 accuracy 0.8600000143051147\n",
            "epoch 35 loss 0.48779040575027466 accuracy 0.8600000143051147\n",
            "epoch 36 loss 0.482474684715271 accuracy 0.8799999952316284\n",
            "epoch 37 loss 0.47690799832344055 accuracy 0.8799999952316284\n",
            "epoch 38 loss 0.4711321294307709 accuracy 0.8849999904632568\n",
            "epoch 39 loss 0.46509024500846863 accuracy 0.8949999809265137\n",
            "epoch 40 loss 0.45926105976104736 accuracy 0.8849999904632568\n",
            "epoch 41 loss 0.4536059498786926 accuracy 0.8899999856948853\n",
            "epoch 42 loss 0.44817137718200684 accuracy 0.8849999904632568\n",
            "epoch 43 loss 0.44281262159347534 accuracy 0.8899999856948853\n",
            "epoch 44 loss 0.4372956156730652 accuracy 0.8849999904632568\n",
            "epoch 45 loss 0.4313800036907196 accuracy 0.8949999809265137\n",
            "epoch 46 loss 0.42512795329093933 accuracy 0.9200000166893005\n",
            "epoch 47 loss 0.41862866282463074 accuracy 0.9300000071525574\n",
            "epoch 48 loss 0.41187915205955505 accuracy 0.9399999976158142\n",
            "epoch 49 loss 0.40517204999923706 accuracy 0.949999988079071\n",
            "epoch 50 loss 0.39845600724220276 accuracy 0.9649999737739563\n",
            "epoch 51 loss 0.3914105296134949 accuracy 0.9750000238418579\n",
            "epoch 52 loss 0.38398388028144836 accuracy 0.9750000238418579\n",
            "epoch 53 loss 0.37633246183395386 accuracy 0.9750000238418579\n",
            "epoch 54 loss 0.3684288263320923 accuracy 0.9750000238418579\n",
            "epoch 55 loss 0.3605187237262726 accuracy 0.9750000238418579\n",
            "epoch 56 loss 0.3529070317745209 accuracy 0.9750000238418579\n",
            "epoch 57 loss 0.34546607732772827 accuracy 0.9750000238418579\n",
            "epoch 58 loss 0.3379129469394684 accuracy 0.9750000238418579\n",
            "epoch 59 loss 0.33025673031806946 accuracy 0.9750000238418579\n",
            "epoch 60 loss 0.32269710302352905 accuracy 0.9750000238418579\n",
            "epoch 61 loss 0.3151969611644745 accuracy 0.9800000190734863\n",
            "epoch 62 loss 0.3075313866138458 accuracy 0.9850000143051147\n",
            "epoch 63 loss 0.2996012270450592 accuracy 0.9900000095367432\n",
            "epoch 64 loss 0.29166778922080994 accuracy 0.9950000047683716\n",
            "epoch 65 loss 0.28390929102897644 accuracy 0.9950000047683716\n",
            "epoch 66 loss 0.27626127004623413 accuracy 0.9950000047683716\n",
            "epoch 67 loss 0.268676221370697 accuracy 0.9950000047683716\n",
            "epoch 68 loss 0.26119107007980347 accuracy 0.9950000047683716\n",
            "epoch 69 loss 0.2538951635360718 accuracy 0.9950000047683716\n",
            "epoch 70 loss 0.24675650894641876 accuracy 1.0\n",
            "epoch 71 loss 0.23974744975566864 accuracy 1.0\n",
            "epoch 72 loss 0.23279771208763123 accuracy 1.0\n",
            "epoch 73 loss 0.22596712410449982 accuracy 1.0\n",
            "epoch 74 loss 0.21919474005699158 accuracy 1.0\n",
            "epoch 75 loss 0.21248692274093628 accuracy 1.0\n",
            "epoch 76 loss 0.20586414635181427 accuracy 1.0\n",
            "epoch 77 loss 0.1993049830198288 accuracy 1.0\n",
            "epoch 78 loss 0.19290956854820251 accuracy 1.0\n",
            "epoch 79 loss 0.18663844466209412 accuracy 1.0\n",
            "epoch 80 loss 0.18041059374809265 accuracy 1.0\n",
            "epoch 81 loss 0.17433635890483856 accuracy 1.0\n",
            "epoch 82 loss 0.16846957802772522 accuracy 1.0\n",
            "epoch 83 loss 0.16272038221359253 accuracy 1.0\n",
            "epoch 84 loss 0.15709905326366425 accuracy 1.0\n",
            "epoch 85 loss 0.15163876116275787 accuracy 1.0\n",
            "epoch 86 loss 0.14640241861343384 accuracy 1.0\n",
            "epoch 87 loss 0.1413096785545349 accuracy 1.0\n",
            "epoch 88 loss 0.13634240627288818 accuracy 1.0\n",
            "epoch 89 loss 0.13153736293315887 accuracy 1.0\n",
            "epoch 90 loss 0.12684057652950287 accuracy 1.0\n",
            "epoch 91 loss 0.12207085639238358 accuracy 1.0\n",
            "epoch 92 loss 0.11726627498865128 accuracy 1.0\n",
            "epoch 93 loss 0.1123354434967041 accuracy 1.0\n",
            "epoch 94 loss 0.10723031312227249 accuracy 1.0\n",
            "epoch 95 loss 0.10102569311857224 accuracy 1.0\n",
            "epoch 96 loss 0.09456294029951096 accuracy 1.0\n",
            "epoch 97 loss 0.08851008117198944 accuracy 1.0\n",
            "epoch 98 loss 0.08361360430717468 accuracy 1.0\n",
            "epoch 99 loss 0.07932072877883911 accuracy 1.0\n"
          ]
        }
      ],
      "source": [
        "for epoch in range(100):\n",
        "  y_pred = forward(X)\n",
        "  loss_value = loss(y_pred, y.to(torch.long))\n",
        "  acc = accuracy(y_pred, y)\n",
        "  print(f'epoch {epoch} loss {loss_value} accuracy {acc}')\n",
        "  loss_value.backward()\n",
        "  optimizer.step()\n",
        "  optimizer.zero_grad()"
      ]
    },
    {
      "cell_type": "markdown",
      "metadata": {
        "id": "A92cBIwjzFx9"
      },
      "source": [
        "The `decision_boundary` function declared previously in this notebook uses a grid of test data points to draw the decision boundary for your model. The grid is like a grid on graph paper, so that for every point on the grid, you are going to use the `forward` method of your model to find out the predicted values for the points and color the grid accordingly.\n",
        "\n",
        "The `no_grad` function disables gradient calculations when performing the `forward`.\n",
        "\n"
      ]
    },
    {
      "cell_type": "code",
      "execution_count": 23,
      "metadata": {
        "id": "fVX4sukThQcg",
        "colab": {
          "base_uri": "https://localhost:8080/",
          "height": 430
        },
        "outputId": "6e808356-447d-40ec-b3d6-6920e61f947f"
      },
      "outputs": [
        {
          "output_type": "display_data",
          "data": {
            "text/plain": [
              "<Figure size 640x480 with 1 Axes>"
            ],
            "image/png": "[encoded data removed]"
          },
          "metadata": {}
        }
      ],
      "source": [
        "with pt.no_grad():\n",
        "  model.to('cpu')\n",
        "  X = X.to('cpu')\n",
        "  y = y.to('cpu')\n",
        "  decision_boundary(forward)"
      ]
    },
    {
      "cell_type": "code",
      "source": [],
      "metadata": {
        "id": "jMmfsT2rVvAk"
      },
      "execution_count": null,
      "outputs": []
    }
  ],
  "metadata": {
    "colab": {
      "provenance": [],
      "include_colab_link": true
    },
    "kernelspec": {
      "display_name": "Python 3 (ipykernel)",
      "language": "python",
      "name": "python3"
    },
    "language_info": {
      "codemirror_mode": {
        "name": "ipython",
        "version": 3
      },
      "file_extension": ".py",
      "mimetype": "text/x-python",
      "name": "python",
      "nbconvert_exporter": "python",
      "pygments_lexer": "ipython3",
      "version": "3.9.1"
    }
  },
  "nbformat": 4,
  "nbformat_minor": 0
}