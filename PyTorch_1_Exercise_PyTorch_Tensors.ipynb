{
  "nbformat": 4,
  "nbformat_minor": 0,
  "metadata": {
    "colab": {
      "provenance": [],
      "include_colab_link": true
    },
    "kernelspec": {
      "display_name": "Python 3",
      "name": "python3"
    },
    "language_info": {
      "codemirror_mode": {
        "name": "ipython",
        "version": 3
      },
      "file_extension": ".py",
      "mimetype": "text/x-python",
      "name": "python",
      "nbconvert_exporter": "python",
      "pygments_lexer": "ipython3",
      "version": "3.7.3"
    }
  },
  "cells": [
    {
      "cell_type": "markdown",
      "metadata": {
        "id": "view-in-github",
        "colab_type": "text"
      },
      "source": [
        "<a href=\"https://colab.research.google.com/github/Deeks900/GenAIBootcamp/blob/main/PyTorch_1_Exercise_PyTorch_Tensors.ipynb\" target=\"_parent\"><img src=\"https://colab.research.google.com/assets/colab-badge.svg\" alt=\"Open In Colab\"/></a>"
      ]
    },
    {
      "cell_type": "markdown",
      "metadata": {
        "id": "CmuseiqGzCWr"
      },
      "source": [
        "## Import the __`torch`__ package"
      ]
    },
    {
      "cell_type": "code",
      "metadata": {
        "id": "eU6P6sF8zCWs"
      },
      "source": [
        "import torch as pt\n",
        "pt.manual_seed(0);"
      ],
      "execution_count": 3,
      "outputs": []
    },
    {
      "cell_type": "markdown",
      "metadata": {
        "id": "f6Snb3-nzCWw"
      },
      "source": [
        "## Create a vector of ten zeros"
      ]
    },
    {
      "cell_type": "code",
      "metadata": {
        "id": "cqTEF0MbzCWx",
        "colab": {
          "base_uri": "https://localhost:8080/"
        },
        "outputId": "fbe9badf-ac4d-42d0-bfaa-294ef13055b5"
      },
      "source": [
        "ans = pt.zeros(10)\n",
        "print(ans)\n",
        "print(type(ans))"
      ],
      "execution_count": 4,
      "outputs": [
        {
          "output_type": "stream",
          "name": "stdout",
          "text": [
            "tensor([0., 0., 0., 0., 0., 0., 0., 0., 0., 0.])\n",
            "<class 'torch.Tensor'>\n"
          ]
        }
      ]
    },
    {
      "cell_type": "markdown",
      "metadata": {
        "id": "I---dV8dzCW4"
      },
      "source": [
        "## Create a vector of size ten with nine zeros and a 1 in the fifth position"
      ]
    },
    {
      "cell_type": "code",
      "metadata": {
        "id": "ADRsT7jazCW4",
        "colab": {
          "base_uri": "https://localhost:8080/"
        },
        "outputId": "b6d06594-d4f3-4445-9f58-02cfbea73d52"
      },
      "source": [
        "tensor = pt.zeros(10)\n",
        "tensor[4] = 1\n",
        "tensor"
      ],
      "execution_count": null,
      "outputs": [
        {
          "output_type": "execute_result",
          "data": {
            "text/plain": [
              "tensor([0., 0., 0., 0., 1., 0., 0., 0., 0., 0.])"
            ]
          },
          "metadata": {},
          "execution_count": 4
        }
      ]
    },
    {
      "cell_type": "markdown",
      "metadata": {
        "id": "axtpynf4zCW7"
      },
      "source": [
        "## Create a vector with values ranging from 10 to 49"
      ]
    },
    {
      "cell_type": "code",
      "metadata": {
        "id": "oRlwKd1uzCW8"
      },
      "source": [
        "v = pt.arange(10, 50)\n"
      ],
      "execution_count": 5,
      "outputs": []
    },
    {
      "cell_type": "markdown",
      "metadata": {
        "id": "iLov9rqUzCXB"
      },
      "source": [
        "## Reverse the previous vector"
      ]
    },
    {
      "cell_type": "code",
      "metadata": {
        "id": "7tCYJBCMzCXC",
        "colab": {
          "base_uri": "https://localhost:8080/"
        },
        "outputId": "6659104c-977d-4587-937f-90fe69622873"
      },
      "source": [
        "reversed(v)"
      ],
      "execution_count": null,
      "outputs": [
        {
          "output_type": "execute_result",
          "data": {
            "text/plain": [
              "tensor([49, 48, 47, 46, 45, 44, 43, 42, 41, 40, 39, 38, 37, 36, 35, 34, 33, 32,\n",
              "        31, 30, 29, 28, 27, 26, 25, 24, 23, 22, 21, 20, 19, 18, 17, 16, 15, 14,\n",
              "        13, 12, 11, 10])"
            ]
          },
          "metadata": {},
          "execution_count": 8
        }
      ]
    },
    {
      "cell_type": "markdown",
      "metadata": {
        "id": "pGbZs19bzCXF"
      },
      "source": [
        "## Create a 3x3 matrix with values ranging from 0 to 8"
      ]
    },
    {
      "cell_type": "code",
      "metadata": {
        "id": "dAj7IEFUzCXF",
        "colab": {
          "base_uri": "https://localhost:8080/"
        },
        "outputId": "7cb486b2-0edb-42dc-c608-2757fb9d1586"
      },
      "source": [
        "# prompt: create a 3*3 matrix with values ranging from 0 to 8\n",
        "\n",
        "matrix = pt.arange(0, 9).reshape(3, 3)\n",
        "matrix\n"
      ],
      "execution_count": 6,
      "outputs": [
        {
          "output_type": "execute_result",
          "data": {
            "text/plain": [
              "tensor([[0, 1, 2],\n",
              "        [3, 4, 5],\n",
              "        [6, 7, 8]])"
            ]
          },
          "metadata": {},
          "execution_count": 6
        }
      ]
    },
    {
      "cell_type": "markdown",
      "metadata": {
        "id": "plNf0tAFzCXI"
      },
      "source": [
        "## Find the indices of the non-zero elements of the following array:"
      ]
    },
    {
      "cell_type": "code",
      "metadata": {
        "id": "g0bp5VuNzCXJ",
        "colab": {
          "base_uri": "https://localhost:8080/"
        },
        "outputId": "83d25e0e-9427-48d5-ca0c-a2e348806dbf"
      },
      "source": [
        "v = pt.tensor([1, 2, 0, 0, 4, 0]) # Given\n",
        "pt.nonzero(v)\n"
      ],
      "execution_count": null,
      "outputs": [
        {
          "output_type": "execute_result",
          "data": {
            "text/plain": [
              "tensor([[0],\n",
              "        [1],\n",
              "        [4]])"
            ]
          },
          "metadata": {},
          "execution_count": 11
        }
      ]
    },
    {
      "cell_type": "markdown",
      "metadata": {
        "id": "r0NwWieZzCXO"
      },
      "source": [
        "## Create a 5x5 identity matrix"
      ]
    },
    {
      "cell_type": "code",
      "metadata": {
        "id": "wIS7MHEEzCXO",
        "colab": {
          "base_uri": "https://localhost:8080/"
        },
        "outputId": "0989332c-fa23-4eaa-c808-9026682c6fa8"
      },
      "source": [
        "# prompt: create a 5*5 identity matrix\n",
        "\n",
        "pt.rand(5, 5)\n"
      ],
      "execution_count": 7,
      "outputs": [
        {
          "output_type": "execute_result",
          "data": {
            "text/plain": [
              "tensor([[0.4963, 0.7682, 0.0885, 0.1320, 0.3074],\n",
              "        [0.6341, 0.4901, 0.8964, 0.4556, 0.6323],\n",
              "        [0.3489, 0.4017, 0.0223, 0.1689, 0.2939],\n",
              "        [0.5185, 0.6977, 0.8000, 0.1610, 0.2823],\n",
              "        [0.6816, 0.9152, 0.3971, 0.8742, 0.4194]])"
            ]
          },
          "metadata": {},
          "execution_count": 7
        }
      ]
    },
    {
      "cell_type": "markdown",
      "metadata": {
        "id": "6djlGYnOzCXR"
      },
      "source": [
        "## Create a 3x3x3 array with random values"
      ]
    },
    {
      "cell_type": "code",
      "metadata": {
        "id": "7WkWYz7wzCXR",
        "colab": {
          "base_uri": "https://localhost:8080/"
        },
        "outputId": "b0bb8143-399e-4ba9-91aa-ab275581d97e"
      },
      "source": [
        "# prompt: ## Create a 3x3x3 array with random values\n",
        "\n",
        "v = pt.rand(3, 3, 3)\n",
        "v\n"
      ],
      "execution_count": 11,
      "outputs": [
        {
          "output_type": "execute_result",
          "data": {
            "text/plain": [
              "tensor([[[0.1872, 0.0340, 0.9442],\n",
              "         [0.8802, 0.0012, 0.5936],\n",
              "         [0.4158, 0.4177, 0.2711]],\n",
              "\n",
              "        [[0.6923, 0.2038, 0.6833],\n",
              "         [0.7529, 0.8579, 0.6870],\n",
              "         [0.0051, 0.1757, 0.7497]],\n",
              "\n",
              "        [[0.6047, 0.1100, 0.2121],\n",
              "         [0.9704, 0.8369, 0.2820],\n",
              "         [0.3742, 0.0237, 0.4910]]])"
            ]
          },
          "metadata": {},
          "execution_count": 11
        }
      ]
    },
    {
      "cell_type": "markdown",
      "metadata": {
        "id": "HiVyKZCuzCXU"
      },
      "source": [
        "## Find the minimum and maximum values generated in the previous step"
      ]
    },
    {
      "cell_type": "code",
      "metadata": {
        "id": "COJHmxatzCXU",
        "colab": {
          "base_uri": "https://localhost:8080/"
        },
        "outputId": "221be6b3-10f9-4495-94da-e019625b257c"
      },
      "source": [
        "v.min(), v.max()\n"
      ],
      "execution_count": 12,
      "outputs": [
        {
          "output_type": "execute_result",
          "data": {
            "text/plain": [
              "(tensor(0.0012), tensor(0.9704))"
            ]
          },
          "metadata": {},
          "execution_count": 12
        }
      ]
    },
    {
      "cell_type": "code",
      "source": [
        "pt.max(v, dim=2)"
      ],
      "metadata": {
        "colab": {
          "base_uri": "https://localhost:8080/"
        },
        "id": "H061uHkAVjZ_",
        "outputId": "6d84ba48-78bc-4431-e582-d96acb4afb41"
      },
      "execution_count": 15,
      "outputs": [
        {
          "output_type": "execute_result",
          "data": {
            "text/plain": [
              "torch.return_types.max(\n",
              "values=tensor([[0.9442, 0.8802, 0.4177],\n",
              "        [0.6923, 0.8579, 0.7497],\n",
              "        [0.6047, 0.9704, 0.4910]]),\n",
              "indices=tensor([[2, 0, 1],\n",
              "        [0, 1, 2],\n",
              "        [0, 0, 2]]))"
            ]
          },
          "metadata": {},
          "execution_count": 15
        }
      ]
    },
    {
      "cell_type": "markdown",
      "metadata": {
        "id": "AvXiXNOBzCXW"
      },
      "source": [
        "## Create a vector with 30 random values and find its mean"
      ]
    },
    {
      "cell_type": "code",
      "metadata": {
        "id": "xzDFiTv3zCXX"
      },
      "source": [
        "# prompt: Create a vector with 30 random values and find its mean\n",
        "\n",
        "v = pt.rand(30)\n",
        "v.mean()\n"
      ],
      "execution_count": null,
      "outputs": []
    },
    {
      "cell_type": "markdown",
      "metadata": {
        "id": "CghaD0RFzCXZ"
      },
      "source": [
        "## Create a 5x5 2d array with 1s around the edges and 0s in the middle"
      ]
    },
    {
      "cell_type": "code",
      "metadata": {
        "id": "GZC49QjdzCXa",
        "colab": {
          "base_uri": "https://localhost:8080/"
        },
        "outputId": "8ae2f38b-3560-44c1-a8b9-f60608833810"
      },
      "source": [
        "# Create a 5x5 tensor filled with zeros\n",
        "tensor = pt.zeros(5, 5)\n",
        "\n",
        "# Set the edges to 1\n",
        "tensor[0, :] = 1  # First row\n",
        "tensor[-1, :] = 1  # Last row\n",
        "tensor[:, 0] = 1  # First column\n",
        "tensor[:, -1] = 1  # Last column\n",
        "\n",
        "tensor\n"
      ],
      "execution_count": null,
      "outputs": [
        {
          "output_type": "execute_result",
          "data": {
            "text/plain": [
              "tensor([[1., 1., 1., 1., 1.],\n",
              "        [1., 0., 0., 0., 1.],\n",
              "        [1., 0., 0., 0., 1.],\n",
              "        [1., 0., 0., 0., 1.],\n",
              "        [1., 1., 1., 1., 1.]])"
            ]
          },
          "metadata": {},
          "execution_count": 17
        }
      ]
    },
    {
      "cell_type": "markdown",
      "metadata": {
        "id": "Jpcx99OgzCXd"
      },
      "source": [
        "## Try to predict the output of each of the following cells before running them"
      ]
    },
    {
      "cell_type": "code",
      "metadata": {
        "id": "ZkZJgk5YzCXe",
        "colab": {
          "base_uri": "https://localhost:8080/"
        },
        "outputId": "3e696e4f-085b-4f67-c5fe-148673420062"
      },
      "source": [
        "0 * float('nan')"
      ],
      "execution_count": 16,
      "outputs": [
        {
          "output_type": "execute_result",
          "data": {
            "text/plain": [
              "nan"
            ]
          },
          "metadata": {},
          "execution_count": 16
        }
      ]
    },
    {
      "cell_type": "code",
      "metadata": {
        "id": "dq81y-y8zCXh",
        "colab": {
          "base_uri": "https://localhost:8080/"
        },
        "outputId": "a0585a83-a584-4fb4-ef16-1e3321451e8a"
      },
      "source": [
        "float('nan') == float('nan')"
      ],
      "execution_count": 17,
      "outputs": [
        {
          "output_type": "execute_result",
          "data": {
            "text/plain": [
              "False"
            ]
          },
          "metadata": {},
          "execution_count": 17
        }
      ]
    },
    {
      "cell_type": "code",
      "metadata": {
        "id": "b2CwjiTbzCXk",
        "colab": {
          "base_uri": "https://localhost:8080/"
        },
        "outputId": "d575a5fe-1306-4bbd-8404-d8e0338f8f39"
      },
      "source": [
        "float('inf') > float('nan')"
      ],
      "execution_count": 18,
      "outputs": [
        {
          "output_type": "execute_result",
          "data": {
            "text/plain": [
              "False"
            ]
          },
          "metadata": {},
          "execution_count": 18
        }
      ]
    },
    {
      "cell_type": "code",
      "metadata": {
        "id": "49Tq53HRzCXn",
        "colab": {
          "base_uri": "https://localhost:8080/"
        },
        "outputId": "50d81f10-6614-40b3-a3c5-e285c00ab585"
      },
      "source": [
        "float('nan') - float('nan')"
      ],
      "execution_count": 19,
      "outputs": [
        {
          "output_type": "execute_result",
          "data": {
            "text/plain": [
              "nan"
            ]
          },
          "metadata": {},
          "execution_count": 19
        }
      ]
    },
    {
      "cell_type": "code",
      "metadata": {
        "id": "1diW27rLzCXp",
        "colab": {
          "base_uri": "https://localhost:8080/"
        },
        "outputId": "26c0757b-fd8f-4c01-ccef-5a842db0682a"
      },
      "source": [
        "0.3 == 3 * 0.1"
      ],
      "execution_count": 20,
      "outputs": [
        {
          "output_type": "execute_result",
          "data": {
            "text/plain": [
              "False"
            ]
          },
          "metadata": {},
          "execution_count": 20
        }
      ]
    },
    {
      "cell_type": "code",
      "metadata": {
        "id": "EAdhSCJbzCXr",
        "colab": {
          "base_uri": "https://localhost:8080/",
          "height": 300
        },
        "outputId": "ba4a732f-7feb-4c8d-e355-7397d206522d"
      },
      "source": [
        "pt.tensor([0]) // pt.tensor([0]) #crashes the kernel :) continue with the next cell"
      ],
      "execution_count": 21,
      "outputs": [
        {
          "output_type": "error",
          "ename": "RuntimeError",
          "evalue": "ZeroDivisionError",
          "traceback": [
            "\u001b[0;31m---------------------------------------------------------------------------\u001b[0m",
            "\u001b[0;31mRuntimeError\u001b[0m                              Traceback (most recent call last)",
            "\u001b[0;32m<ipython-input-21-71913765b75f>\u001b[0m in \u001b[0;36m<cell line: 0>\u001b[0;34m()\u001b[0m\n\u001b[0;32m----> 1\u001b[0;31m \u001b[0mpt\u001b[0m\u001b[0;34m.\u001b[0m\u001b[0mtensor\u001b[0m\u001b[0;34m(\u001b[0m\u001b[0;34m[\u001b[0m\u001b[0;36m0\u001b[0m\u001b[0;34m]\u001b[0m\u001b[0;34m)\u001b[0m \u001b[0;34m//\u001b[0m \u001b[0mpt\u001b[0m\u001b[0;34m.\u001b[0m\u001b[0mtensor\u001b[0m\u001b[0;34m(\u001b[0m\u001b[0;34m[\u001b[0m\u001b[0;36m0\u001b[0m\u001b[0;34m]\u001b[0m\u001b[0;34m)\u001b[0m \u001b[0;31m#crashes the kernel :) continue with the next cell\u001b[0m\u001b[0;34m\u001b[0m\u001b[0;34m\u001b[0m\u001b[0m\n\u001b[0m",
            "\u001b[0;32m/usr/local/lib/python3.11/dist-packages/torch/_tensor.py\u001b[0m in \u001b[0;36mwrapped\u001b[0;34m(*args, **kwargs)\u001b[0m\n\u001b[1;32m     37\u001b[0m             \u001b[0;32mif\u001b[0m \u001b[0mhas_torch_function\u001b[0m\u001b[0;34m(\u001b[0m\u001b[0margs\u001b[0m\u001b[0;34m)\u001b[0m\u001b[0;34m:\u001b[0m\u001b[0;34m\u001b[0m\u001b[0;34m\u001b[0m\u001b[0m\n\u001b[1;32m     38\u001b[0m                 \u001b[0;32mreturn\u001b[0m \u001b[0mhandle_torch_function\u001b[0m\u001b[0;34m(\u001b[0m\u001b[0mwrapped\u001b[0m\u001b[0;34m,\u001b[0m \u001b[0margs\u001b[0m\u001b[0;34m,\u001b[0m \u001b[0;34m*\u001b[0m\u001b[0margs\u001b[0m\u001b[0;34m,\u001b[0m \u001b[0;34m**\u001b[0m\u001b[0mkwargs\u001b[0m\u001b[0;34m)\u001b[0m\u001b[0;34m\u001b[0m\u001b[0;34m\u001b[0m\u001b[0m\n\u001b[0;32m---> 39\u001b[0;31m             \u001b[0;32mreturn\u001b[0m \u001b[0mf\u001b[0m\u001b[0;34m(\u001b[0m\u001b[0;34m*\u001b[0m\u001b[0margs\u001b[0m\u001b[0;34m,\u001b[0m \u001b[0;34m**\u001b[0m\u001b[0mkwargs\u001b[0m\u001b[0;34m)\u001b[0m\u001b[0;34m\u001b[0m\u001b[0;34m\u001b[0m\u001b[0m\n\u001b[0m\u001b[1;32m     40\u001b[0m         \u001b[0;32mexcept\u001b[0m \u001b[0mTypeError\u001b[0m\u001b[0;34m:\u001b[0m\u001b[0;34m\u001b[0m\u001b[0;34m\u001b[0m\u001b[0m\n\u001b[1;32m     41\u001b[0m             \u001b[0;32mreturn\u001b[0m \u001b[0mNotImplemented\u001b[0m\u001b[0;34m\u001b[0m\u001b[0;34m\u001b[0m\u001b[0m\n",
            "\u001b[0;32m/usr/local/lib/python3.11/dist-packages/torch/_tensor.py\u001b[0m in \u001b[0;36m__floordiv__\u001b[0;34m(self, other)\u001b[0m\n\u001b[1;32m   1104\u001b[0m     \u001b[0;34m@\u001b[0m\u001b[0m_handle_torch_function_and_wrap_type_error_to_not_implemented\u001b[0m\u001b[0;34m\u001b[0m\u001b[0;34m\u001b[0m\u001b[0m\n\u001b[1;32m   1105\u001b[0m     \u001b[0;32mdef\u001b[0m \u001b[0m__floordiv__\u001b[0m\u001b[0;34m(\u001b[0m\u001b[0mself\u001b[0m\u001b[0;34m,\u001b[0m \u001b[0mother\u001b[0m\u001b[0;34m)\u001b[0m\u001b[0;34m:\u001b[0m\u001b[0;34m\u001b[0m\u001b[0;34m\u001b[0m\u001b[0m\n\u001b[0;32m-> 1106\u001b[0;31m         \u001b[0;32mreturn\u001b[0m \u001b[0mtorch\u001b[0m\u001b[0;34m.\u001b[0m\u001b[0mfloor_divide\u001b[0m\u001b[0;34m(\u001b[0m\u001b[0mself\u001b[0m\u001b[0;34m,\u001b[0m \u001b[0mother\u001b[0m\u001b[0;34m)\u001b[0m\u001b[0;34m\u001b[0m\u001b[0;34m\u001b[0m\u001b[0m\n\u001b[0m\u001b[1;32m   1107\u001b[0m \u001b[0;34m\u001b[0m\u001b[0m\n\u001b[1;32m   1108\u001b[0m     \u001b[0;34m@\u001b[0m\u001b[0m_handle_torch_function_and_wrap_type_error_to_not_implemented\u001b[0m\u001b[0;34m\u001b[0m\u001b[0;34m\u001b[0m\u001b[0m\n",
            "\u001b[0;31mRuntimeError\u001b[0m: ZeroDivisionError"
          ]
        }
      ]
    },
    {
      "cell_type": "code",
      "metadata": {
        "id": "T8dkSa1dzCXt"
      },
      "source": [
        "import torch as pt #this is in case you crashed on the previous cell\n",
        "pt.tensor([0]) // pt.tensor([0.0])"
      ],
      "execution_count": null,
      "outputs": []
    },
    {
      "cell_type": "code",
      "metadata": {
        "id": "6-vnyvnY3O_-"
      },
      "source": [
        "nan_scalar = pt.tensor([float('nan')])\n",
        "\n",
        "pt.isnan(nan_scalar)"
      ],
      "execution_count": null,
      "outputs": []
    },
    {
      "cell_type": "code",
      "metadata": {
        "id": "oQgbcYV2zCX0"
      },
      "source": [
        "pt.tensor([0]) / pt.tensor([0.0])"
      ],
      "execution_count": null,
      "outputs": []
    },
    {
      "cell_type": "markdown",
      "metadata": {
        "id": "YcnIalmYzCX2"
      },
      "source": [
        "## Find the integer part of the following array using four different methods:"
      ]
    },
    {
      "cell_type": "code",
      "metadata": {
        "id": "xGjqeNf-zCX4",
        "colab": {
          "base_uri": "https://localhost:8080/"
        },
        "outputId": "89cec0c3-bb21-4c81-8c6a-c92fa297e43a"
      },
      "source": [
        "a = pt.randn((10,), dtype = pt.float32)\n",
        "a"
      ],
      "execution_count": 22,
      "outputs": [
        {
          "output_type": "execute_result",
          "data": {
            "text/plain": [
              "tensor([ 1.7340, -0.1336, -0.8351,  0.9855, -0.0052, -0.0944, -1.1236, -0.6513,\n",
              "         0.5693,  0.1782])"
            ]
          },
          "metadata": {},
          "execution_count": 22
        }
      ]
    },
    {
      "cell_type": "code",
      "metadata": {
        "id": "jTI5BWoUzCX6"
      },
      "source": [],
      "execution_count": null,
      "outputs": []
    },
    {
      "cell_type": "code",
      "metadata": {
        "id": "DHbpIPvJzCX8"
      },
      "source": [],
      "execution_count": null,
      "outputs": []
    },
    {
      "cell_type": "code",
      "metadata": {
        "id": "lW8C0_RTzCX-"
      },
      "source": [],
      "execution_count": null,
      "outputs": []
    },
    {
      "cell_type": "code",
      "metadata": {
        "id": "6tKQz-OdzCYA"
      },
      "source": [],
      "execution_count": null,
      "outputs": []
    },
    {
      "cell_type": "markdown",
      "metadata": {
        "id": "wCR6R94rzCYD"
      },
      "source": [
        "## Create a vector of 10 values from 0 to 1, both included"
      ]
    },
    {
      "cell_type": "code",
      "metadata": {
        "id": "26HYaGsczCYD"
      },
      "source": [],
      "execution_count": null,
      "outputs": []
    },
    {
      "cell_type": "markdown",
      "metadata": {
        "id": "MHw1Dq5QzCYF"
      },
      "source": [
        "## Create a vector of size 10 with values ranging from 0 to 1, both excluded"
      ]
    },
    {
      "cell_type": "code",
      "metadata": {
        "id": "DWJVTJ7DzCYG"
      },
      "source": [],
      "execution_count": null,
      "outputs": []
    },
    {
      "cell_type": "markdown",
      "metadata": {
        "id": "76FEjR_TzCYH"
      },
      "source": [
        "## Subtract the mean of each row of the following matrix"
      ]
    },
    {
      "cell_type": "code",
      "metadata": {
        "id": "1d7JY5y6zCYI"
      },
      "source": [
        "m = pt.rand(3, 3)\n",
        "m"
      ],
      "execution_count": null,
      "outputs": []
    },
    {
      "cell_type": "code",
      "metadata": {
        "id": "t9aldiCQ51Hz"
      },
      "source": [],
      "execution_count": null,
      "outputs": []
    },
    {
      "cell_type": "code",
      "metadata": {
        "id": "uTsIb1GZzCYL"
      },
      "source": [],
      "execution_count": null,
      "outputs": []
    },
    {
      "cell_type": "code",
      "metadata": {
        "id": "ryRQVWqICpQK"
      },
      "source": [],
      "execution_count": null,
      "outputs": []
    },
    {
      "cell_type": "code",
      "metadata": {
        "id": "uxhdOaWFCu1M"
      },
      "source": [],
      "execution_count": null,
      "outputs": []
    },
    {
      "cell_type": "markdown",
      "metadata": {
        "id": "f2w3ku_izCYO"
      },
      "source": [
        "## Add 1,000,000 numbers together using __`torch`__ vectorized operations"
      ]
    },
    {
      "cell_type": "code",
      "metadata": {
        "id": "yPaNUdD4zCYP"
      },
      "source": [],
      "execution_count": null,
      "outputs": []
    },
    {
      "cell_type": "markdown",
      "metadata": {
        "id": "IclUTxlAzCYS"
      },
      "source": [
        "## Create a 4x4 array of the first 16 powers of 3"
      ]
    },
    {
      "cell_type": "code",
      "metadata": {
        "id": "86JDG003zCYS"
      },
      "source": [],
      "execution_count": null,
      "outputs": []
    }
  ]
}