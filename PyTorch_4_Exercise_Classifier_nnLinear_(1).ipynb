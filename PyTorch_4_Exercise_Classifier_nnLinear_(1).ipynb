{
  "cells": [
    {
      "cell_type": "markdown",
      "metadata": {
        "id": "view-in-github",
        "colab_type": "text"
      },
      "source": [
        "<a href=\"https://colab.research.google.com/github/Deeks900/GenAIBootcamp/blob/main/PyTorch_4_Exercise_Classifier_nnLinear_(1).ipynb\" target=\"_parent\"><img src=\"https://colab.research.google.com/assets/colab-badge.svg\" alt=\"Open In Colab\"/></a>"
      ]
    },
    {
      "cell_type": "markdown",
      "metadata": {
        "id": "KApsqFZJ01Qf"
      },
      "source": [
        "## Implement a binary classifier with `torch.nn.Linear`"
      ]
    },
    {
      "cell_type": "code",
      "execution_count": 1,
      "metadata": {
        "id": "dmp7MeGdrhrQ"
      },
      "outputs": [],
      "source": [
        "import torch as pt\n",
        "from torch import nn\n",
        "import matplotlib.pyplot as plt\n",
        "%matplotlib inline\n",
        "pt.manual_seed(42);"
      ]
    },
    {
      "cell_type": "markdown",
      "metadata": {
        "id": "mmEHSihL2sza"
      },
      "source": [
        "## Start by practicing boolean operations on boolean tensors. Don't worry, there is a point to this exercise :)"
      ]
    },
    {
      "cell_type": "code",
      "execution_count": 2,
      "metadata": {
        "id": "KBmpRhNF3HOY",
        "colab": {
          "base_uri": "https://localhost:8080/"
        },
        "outputId": "afb909e3-be9a-4b9e-9876-9ed786a77840"
      },
      "outputs": [
        {
          "output_type": "execute_result",
          "data": {
            "text/plain": [
              "tensor([ 0.3367,  0.1288,  0.2345,  0.2303, -1.1229, -0.1863,  2.2082, -0.6380,\n",
              "         0.4617,  0.2674])"
            ]
          },
          "metadata": {},
          "execution_count": 2
        }
      ],
      "source": [
        "a = pt.randn(10)\n",
        "a"
      ]
    },
    {
      "cell_type": "markdown",
      "metadata": {
        "id": "5utZcdWV3VGb"
      },
      "source": [
        "## Create a boolean tensor named `b` by converting the `a` tensor such that `b` holds `True` for positive values of `a` and `False` for negative and zero values of `a`\n",
        "* **hint:** `b` must have the same shape as `a`"
      ]
    },
    {
      "cell_type": "code",
      "execution_count": null,
      "metadata": {
        "id": "Okp6Efba3dMz"
      },
      "outputs": [],
      "source": []
    },
    {
      "cell_type": "markdown",
      "metadata": {
        "id": "2dGzRPmD4jE0"
      },
      "source": [
        "## Create another boolean tensor named `c` with values that are the opposite of `b`\n",
        "* **hint:** you can use a different logical expression with the values of the `a` tensor or use the `~` operator"
      ]
    },
    {
      "cell_type": "code",
      "execution_count": null,
      "metadata": {
        "id": "zr0LnN4A5TGP"
      },
      "outputs": [],
      "source": []
    },
    {
      "cell_type": "markdown",
      "metadata": {
        "id": "_Av-i_EK5vEY"
      },
      "source": [
        "## Create 2 tensors that are the logical `and` as well as `or` of `b` and `c`. For each of the tensors, count the number of the `True` values in the tensor\n",
        "* **hint:** in Python `&` is the logical `and` while `|` is the logical `or`"
      ]
    },
    {
      "cell_type": "code",
      "execution_count": null,
      "metadata": {
        "id": "UesE1_mB6cqP"
      },
      "outputs": [],
      "source": []
    },
    {
      "cell_type": "markdown",
      "metadata": {
        "id": "7QLRwWfc8Gnn"
      },
      "source": [
        "## Create a tensor named `d` by concatenating `b` and `c` using the `pt.cat` method that takes a list of tensors"
      ]
    },
    {
      "cell_type": "code",
      "execution_count": null,
      "metadata": {
        "id": "lcn5gWdJ7hKG"
      },
      "outputs": [],
      "source": []
    },
    {
      "cell_type": "markdown",
      "metadata": {
        "id": "iqbFZBxG9gpS"
      },
      "source": [
        "## Reshape the `d` tensor to be 3 dimensional with the shape of `[5, 2, 2]` and save the result to tensor `e`"
      ]
    },
    {
      "cell_type": "code",
      "execution_count": null,
      "metadata": {
        "id": "RflaCvMj6ySe"
      },
      "outputs": [],
      "source": []
    },
    {
      "cell_type": "markdown",
      "metadata": {
        "id": "EnXD_VV1_huL"
      },
      "source": [
        "# Create a tensor `f` that contains the sum of the number of the `True` values along the last (trailing) dimension of the `e` tensor while keeping the original dimensions\n",
        "* **hint:** check out the `keepdims` parameter"
      ]
    },
    {
      "cell_type": "code",
      "execution_count": null,
      "metadata": {
        "id": "3_fn5Sdr_a6v"
      },
      "outputs": [],
      "source": []
    },
    {
      "cell_type": "markdown",
      "metadata": {
        "id": "moUBPp-AATrs"
      },
      "source": [
        "## Use the `squeeze` method on the tensor with the sum of the `True` values and confirm that its shape changed to 2 dimensions instead of 3"
      ]
    },
    {
      "cell_type": "code",
      "execution_count": null,
      "metadata": {
        "id": "JMOkXLXT_6Vm"
      },
      "outputs": [],
      "source": []
    },
    {
      "cell_type": "markdown",
      "metadata": {
        "id": "RlgdZVnABcAH"
      },
      "source": [
        "The `squeeze` method is useful when you need to reduce the dimension of a tensor that has one or more dimensions of length `1`. For example, if you have a tensor with a shape [3, 1, 4], the 2nd dimension can be `squeeze`d to `[3,4]`"
      ]
    },
    {
      "cell_type": "markdown",
      "metadata": {
        "id": "_MCyLxebB9LR"
      },
      "source": [
        "## Next, get started on generating data for your spam/not-spam classification problem"
      ]
    },
    {
      "cell_type": "code",
      "execution_count": null,
      "metadata": {
        "id": "z-kGIZzWrmzr",
        "colab": {
          "base_uri": "https://localhost:8080/",
          "height": 435
        },
        "outputId": "d12334e5-506c-4279-8c44-ad89d03cd0cf"
      },
      "outputs": [
        {
          "output_type": "display_data",
          "data": {
            "text/plain": [
              "<Figure size 640x480 with 1 Axes>"
            ],
            "image/png": "[encoded data removed]"
          },
          "metadata": {}
        }
      ],
      "source": [
        "NUM = 50\n",
        "\n",
        "#X spam data points\n",
        "Xs = pt.normal(0, 2, [NUM, 2]) - 3\n",
        "plt.scatter(Xs[:, 0], Xs[:, 1], color = 'orange');\n",
        "\n",
        "#X not spam data points\n",
        "Xns = pt.normal(0, 3, [NUM, 2]) + 3\n",
        "plt.scatter(Xns[:, 0], Xns[:, 1], color = 'blue');\n",
        "\n",
        "plt.xlim([-10, 10])\n",
        "plt.ylim([-10, 10]);"
      ]
    },
    {
      "cell_type": "markdown",
      "metadata": {
        "id": "WBWgnbGeC4h6"
      },
      "source": [
        "## Create a tensor array `X` with spam and not spam data values having the shape `[100, 2]`"
      ]
    },
    {
      "cell_type": "code",
      "execution_count": null,
      "metadata": {
        "id": "QYPhxguvDJis",
        "colab": {
          "base_uri": "https://localhost:8080/"
        },
        "outputId": "46859953-6db1-4b8b-8604-a47b960e327d"
      },
      "outputs": [
        {
          "output_type": "execute_result",
          "data": {
            "text/plain": [
              "torch.Size([100, 2])"
            ]
          },
          "metadata": {},
          "execution_count": 34
        }
      ],
      "source": [
        "X = pt.cat([Xs, Xns])\n",
        "X.shape"
      ]
    },
    {
      "cell_type": "markdown",
      "metadata": {
        "id": "Ht3jX5ZlCj4G"
      },
      "source": [
        "## Create a `y` tensor with positive/negative values for the spam/not spam data in the `X` tensor. Let's have `1` be spam, and `-1` not spam."
      ]
    },
    {
      "cell_type": "code",
      "execution_count": null,
      "metadata": {
        "id": "ZJvNGiFtCuCv",
        "colab": {
          "base_uri": "https://localhost:8080/"
        },
        "outputId": "d6c08b97-b69b-40c8-99a7-5a5cf47cf74d"
      },
      "outputs": [
        {
          "output_type": "execute_result",
          "data": {
            "text/plain": [
              "torch.Size([100])"
            ]
          },
          "metadata": {},
          "execution_count": 35
        }
      ],
      "source": [
        "y = pt.cat([pt.ones(NUM), -1 * pt.ones(NUM)])\n",
        "y.shape"
      ]
    },
    {
      "cell_type": "markdown",
      "metadata": {
        "id": "3ro8DSuBDi04"
      },
      "source": [
        "## Create a model using `nn.Linear`. Disable the `bias` term in the model."
      ]
    },
    {
      "cell_type": "code",
      "execution_count": null,
      "metadata": {
        "id": "rYp7vRYghrqU"
      },
      "outputs": [],
      "source": [
        "model = nn.Linear(2, 1, bias=True)"
      ]
    },
    {
      "cell_type": "code",
      "source": [
        "model(X[:2])"
      ],
      "metadata": {
        "colab": {
          "base_uri": "https://localhost:8080/"
        },
        "id": "WhHYc9Ev_GLY",
        "outputId": "801a9dde-466c-42ff-8914-3a8e8092ed6e"
      },
      "execution_count": null,
      "outputs": [
        {
          "output_type": "execute_result",
          "data": {
            "text/plain": [
              "tensor([[-1.3705],\n",
              "        [ 0.1241]], grad_fn=<AddmmBackward0>)"
            ]
          },
          "metadata": {},
          "execution_count": 61
        }
      ]
    },
    {
      "cell_type": "markdown",
      "metadata": {
        "id": "l9Tk11LMDtHv"
      },
      "source": [
        "## Implement the `forward` method for the model. Don't forget to check the shape of your predictions!"
      ]
    },
    {
      "cell_type": "code",
      "execution_count": null,
      "metadata": {
        "id": "2JkmCBwTbav5"
      },
      "outputs": [],
      "source": [
        "def forward(X):\n",
        "  return model(X).squeeze()"
      ]
    },
    {
      "cell_type": "markdown",
      "metadata": {
        "id": "Y1hPEBuCD5if"
      },
      "source": [
        "## Implement the `loss` method to return the mean squared error of your predictions"
      ]
    },
    {
      "cell_type": "code",
      "execution_count": null,
      "metadata": {
        "id": "4MjJOaXrjv0X"
      },
      "outputs": [],
      "source": [
        "def loss(y_pred, y):\n",
        "  return ((y_pred - y) ** 2).mean()"
      ]
    },
    {
      "cell_type": "markdown",
      "metadata": {
        "id": "M2pgNUzxEDpA"
      },
      "source": [
        "## Implement a `metric` method that takes the model predictions and the actual values and returns the accuracy (i.e. percentage correct) for the predictions."
      ]
    },
    {
      "cell_type": "code",
      "execution_count": null,
      "metadata": {
        "id": "xo7B5TGHdLnf"
      },
      "outputs": [],
      "source": [
        "def accuracy(y_pred, y):\n",
        "  return pt.sum(( ( y > 0) & (y_pred > 0)) | ( ( y < 0) & (y_pred < 0) )) / float(len(y))"
      ]
    },
    {
      "cell_type": "code",
      "source": [
        "SAMPLE = 6\n",
        "y[:SAMPLE], forward(X[:SAMPLE]), accuracy(forward(X[:SAMPLE]), y[:SAMPLE])"
      ],
      "metadata": {
        "colab": {
          "base_uri": "https://localhost:8080/"
        },
        "id": "1oIeUd7bA8R3",
        "outputId": "ed31f6e6-7fb5-4cb9-df21-4660fa3fd2b9"
      },
      "execution_count": null,
      "outputs": [
        {
          "output_type": "execute_result",
          "data": {
            "text/plain": [
              "(tensor([1., 1., 1., 1., 1., 1.]),\n",
              " tensor([-1.3705,  0.1241, -1.7113, -1.7194, -1.6615, -1.1507],\n",
              "        grad_fn=<SqueezeBackward0>),\n",
              " tensor(0.1667))"
            ]
          },
          "metadata": {},
          "execution_count": 80
        }
      ]
    },
    {
      "cell_type": "markdown",
      "metadata": {
        "id": "9gC-y0kyESBh"
      },
      "source": [
        "## Implement a `for` loop that does 10 iterations of gradient descent, printing out the MSE and the accurary for each iteration\n",
        "* **hint:** don't forget to use `zero_grad` function with your model\n",
        "* **hint:** update the weights using the `weight.data` attribute of your model"
      ]
    },
    {
      "cell_type": "code",
      "execution_count": null,
      "metadata": {
        "id": "r9AwQRHLgPzk",
        "colab": {
          "base_uri": "https://localhost:8080/"
        },
        "outputId": "4e51dd32-0df7-40e9-99e4-7c94b2ebb902"
      },
      "outputs": [
        {
          "output_type": "stream",
          "name": "stdout",
          "text": [
            "epoch: 0, loss: 9.467514038085938, accuracy: 0.029999999329447746\n",
            "epoch: 1, loss: 9.083895683288574, accuracy: 0.029999999329447746\n",
            "epoch: 2, loss: 8.708684921264648, accuracy: 0.029999999329447746\n",
            "epoch: 3, loss: 8.342018127441406, accuracy: 0.029999999329447746\n",
            "epoch: 4, loss: 7.98402214050293, accuracy: 0.029999999329447746\n",
            "epoch: 5, loss: 7.63481330871582, accuracy: 0.029999999329447746\n",
            "epoch: 6, loss: 7.294495105743408, accuracy: 0.029999999329447746\n",
            "epoch: 7, loss: 6.96316385269165, accuracy: 0.029999999329447746\n",
            "epoch: 8, loss: 6.640897750854492, accuracy: 0.029999999329447746\n",
            "epoch: 9, loss: 6.327770233154297, accuracy: 0.029999999329447746\n",
            "epoch: 10, loss: 6.023833751678467, accuracy: 0.03999999910593033\n",
            "epoch: 11, loss: 5.729130744934082, accuracy: 0.03999999910593033\n",
            "epoch: 12, loss: 5.443693161010742, accuracy: 0.03999999910593033\n",
            "epoch: 13, loss: 5.167531967163086, accuracy: 0.05000000074505806\n",
            "epoch: 14, loss: 4.900648593902588, accuracy: 0.05000000074505806\n",
            "epoch: 15, loss: 4.64302921295166, accuracy: 0.05000000074505806\n",
            "epoch: 16, loss: 4.394643783569336, accuracy: 0.05000000074505806\n",
            "epoch: 17, loss: 4.155450820922852, accuracy: 0.05000000074505806\n",
            "epoch: 18, loss: 3.92539119720459, accuracy: 0.05000000074505806\n",
            "epoch: 19, loss: 3.7043936252593994, accuracy: 0.05000000074505806\n",
            "epoch: 20, loss: 3.492372989654541, accuracy: 0.05000000074505806\n",
            "epoch: 21, loss: 3.289228916168213, accuracy: 0.05999999865889549\n",
            "epoch: 22, loss: 3.0948479175567627, accuracy: 0.05999999865889549\n",
            "epoch: 23, loss: 2.9091057777404785, accuracy: 0.05999999865889549\n",
            "epoch: 24, loss: 2.731862783432007, accuracy: 0.05999999865889549\n",
            "epoch: 25, loss: 2.562969923019409, accuracy: 0.05999999865889549\n",
            "epoch: 26, loss: 2.4022650718688965, accuracy: 0.05999999865889549\n",
            "epoch: 27, loss: 2.2495763301849365, accuracy: 0.07000000029802322\n",
            "epoch: 28, loss: 2.1047213077545166, accuracy: 0.07999999821186066\n",
            "epoch: 29, loss: 1.9675085544586182, accuracy: 0.09000000357627869\n",
            "epoch: 30, loss: 1.8377381563186646, accuracy: 0.11999999731779099\n",
            "epoch: 31, loss: 1.7152026891708374, accuracy: 0.17000000178813934\n",
            "epoch: 32, loss: 1.5996873378753662, accuracy: 0.18000000715255737\n",
            "epoch: 33, loss: 1.490971326828003, accuracy: 0.23000000417232513\n",
            "epoch: 34, loss: 1.3888287544250488, accuracy: 0.30000001192092896\n",
            "epoch: 35, loss: 1.2930293083190918, accuracy: 0.38999998569488525\n",
            "epoch: 36, loss: 1.2033389806747437, accuracy: 0.46000000834465027\n",
            "epoch: 37, loss: 1.1195213794708252, accuracy: 0.5\n",
            "epoch: 38, loss: 1.0413376092910767, accuracy: 0.5\n",
            "epoch: 39, loss: 0.9685481190681458, accuracy: 0.5\n",
            "epoch: 40, loss: 0.9009137749671936, accuracy: 0.5400000214576721\n",
            "epoch: 41, loss: 0.8381949067115784, accuracy: 0.6399999856948853\n",
            "epoch: 42, loss: 0.7801539897918701, accuracy: 0.75\n",
            "epoch: 43, loss: 0.7265554070472717, accuracy: 0.8399999737739563\n",
            "epoch: 44, loss: 0.677166223526001, accuracy: 0.8799999952316284\n",
            "epoch: 45, loss: 0.6317571401596069, accuracy: 0.9100000262260437\n",
            "epoch: 46, loss: 0.5901030898094177, accuracy: 0.9100000262260437\n",
            "epoch: 47, loss: 0.5519834756851196, accuracy: 0.9200000166893005\n",
            "epoch: 48, loss: 0.5171830654144287, accuracy: 0.9200000166893005\n",
            "epoch: 49, loss: 0.4854923188686371, accuracy: 0.9300000071525574\n",
            "epoch: 50, loss: 0.45670807361602783, accuracy: 0.9300000071525574\n",
            "epoch: 51, loss: 0.43063345551490784, accuracy: 0.9300000071525574\n",
            "epoch: 52, loss: 0.4070788621902466, accuracy: 0.9300000071525574\n",
            "epoch: 53, loss: 0.38586166501045227, accuracy: 0.9300000071525574\n",
            "epoch: 54, loss: 0.36680683493614197, accuracy: 0.9300000071525574\n",
            "epoch: 55, loss: 0.3497470021247864, accuracy: 0.9300000071525574\n",
            "epoch: 56, loss: 0.3345224857330322, accuracy: 0.9300000071525574\n",
            "epoch: 57, loss: 0.32098159193992615, accuracy: 0.9300000071525574\n",
            "epoch: 58, loss: 0.30898064374923706, accuracy: 0.9300000071525574\n",
            "epoch: 59, loss: 0.2983837127685547, accuracy: 0.9399999976158142\n",
            "epoch: 60, loss: 0.2890629172325134, accuracy: 0.9399999976158142\n",
            "epoch: 61, loss: 0.2808981239795685, accuracy: 0.9399999976158142\n",
            "epoch: 62, loss: 0.27377691864967346, accuracy: 0.9399999976158142\n",
            "epoch: 63, loss: 0.26759445667266846, accuracy: 0.9399999976158142\n",
            "epoch: 64, loss: 0.2622532546520233, accuracy: 0.9399999976158142\n",
            "epoch: 65, loss: 0.2576628625392914, accuracy: 0.9399999976158142\n",
            "epoch: 66, loss: 0.2537398934364319, accuracy: 0.9399999976158142\n",
            "epoch: 67, loss: 0.2504076361656189, accuracy: 0.9399999976158142\n",
            "epoch: 68, loss: 0.24759560823440552, accuracy: 0.949999988079071\n",
            "epoch: 69, loss: 0.24523964524269104, accuracy: 0.949999988079071\n",
            "epoch: 70, loss: 0.24328111112117767, accuracy: 0.949999988079071\n",
            "epoch: 71, loss: 0.24166715145111084, accuracy: 0.949999988079071\n",
            "epoch: 72, loss: 0.2403499186038971, accuracy: 0.949999988079071\n",
            "epoch: 73, loss: 0.23928654193878174, accuracy: 0.949999988079071\n",
            "epoch: 74, loss: 0.23843856155872345, accuracy: 0.949999988079071\n",
            "epoch: 75, loss: 0.23777183890342712, accuracy: 0.949999988079071\n",
            "epoch: 76, loss: 0.23725625872612, accuracy: 0.949999988079071\n",
            "epoch: 77, loss: 0.23686522245407104, accuracy: 0.949999988079071\n",
            "epoch: 78, loss: 0.23657546937465668, accuracy: 0.949999988079071\n",
            "epoch: 79, loss: 0.23636682331562042, accuracy: 0.949999988079071\n",
            "epoch: 80, loss: 0.23622192442417145, accuracy: 0.949999988079071\n",
            "epoch: 81, loss: 0.2361259013414383, accuracy: 0.949999988079071\n",
            "epoch: 82, loss: 0.2360660880804062, accuracy: 0.949999988079071\n",
            "epoch: 83, loss: 0.23603199422359467, accuracy: 0.949999988079071\n",
            "epoch: 84, loss: 0.23601479828357697, accuracy: 0.949999988079071\n",
            "epoch: 85, loss: 0.23600739240646362, accuracy: 0.949999988079071\n",
            "epoch: 86, loss: 0.23600399494171143, accuracy: 0.949999988079071\n",
            "epoch: 87, loss: 0.23600013554096222, accuracy: 0.949999988079071\n",
            "epoch: 88, loss: 0.23599235713481903, accuracy: 0.949999988079071\n",
            "epoch: 89, loss: 0.2359781265258789, accuracy: 0.949999988079071\n",
            "epoch: 90, loss: 0.23595570027828217, accuracy: 0.949999988079071\n",
            "epoch: 91, loss: 0.23592402040958405, accuracy: 0.949999988079071\n",
            "epoch: 92, loss: 0.2358824908733368, accuracy: 0.949999988079071\n",
            "epoch: 93, loss: 0.23583106696605682, accuracy: 0.949999988079071\n",
            "epoch: 94, loss: 0.23576994240283966, accuracy: 0.949999988079071\n",
            "epoch: 95, loss: 0.23569965362548828, accuracy: 0.949999988079071\n",
            "epoch: 96, loss: 0.2356209009885788, accuracy: 0.949999988079071\n",
            "epoch: 97, loss: 0.23553462326526642, accuracy: 0.949999988079071\n",
            "epoch: 98, loss: 0.23544174432754517, accuracy: 0.949999988079071\n",
            "epoch: 99, loss: 0.2353433072566986, accuracy: 0.949999988079071\n"
          ]
        }
      ],
      "source": [
        "EPOCHS = 100\n",
        "LR = 0.01\n",
        "optim = pt.optim.AdamW(model.parameters(), lr = LR)\n",
        "for epoch in range(EPOCHS):\n",
        "  ypred = forward(X)\n",
        "  l = loss(ypred, y)\n",
        "  m = accuracy(ypred, y)\n",
        "  l.backward()\n",
        "  print(f'epoch: {epoch}, loss: {l.item()}, accuracy: {m.item()}')\n",
        "  optim.step()\n",
        "  optim.zero_grad()"
      ]
    },
    {
      "cell_type": "markdown",
      "metadata": {
        "id": "pBGeWA4NF3lE"
      },
      "source": [
        "## Re-render the original scatter plot with spam/not spam data points and add the decision boundary line on the plot.\n",
        "\n",
        "* **hint:** to pass tensors to `plt.plot` you need to convert them to `numpy` arrays using `.detach().numpy()`"
      ]
    },
    {
      "cell_type": "code",
      "execution_count": null,
      "metadata": {
        "id": "kfJ04tp7kZRR",
        "colab": {
          "base_uri": "https://localhost:8080/",
          "height": 452
        },
        "outputId": "15757749-793b-4c2e-81cd-c79bab5cd78f"
      },
      "outputs": [
        {
          "output_type": "execute_result",
          "data": {
            "text/plain": [
              "(-10.0, 10.0)"
            ]
          },
          "metadata": {},
          "execution_count": 42
        },
        {
          "output_type": "display_data",
          "data": {
            "text/plain": [
              "<Figure size 640x480 with 1 Axes>"
            ],
            "image/png": "[encoded data removed]"
          },
          "metadata": {}
        }
      ],
      "source": [
        "plt.scatter(Xs[:, 0], Xs[:, 1], color = 'orange');\n",
        "plt.scatter(Xns[:, 0], Xns[:, 1], color = 'blue');\n",
        "\n",
        "xs = pt.linspace(-8, 8, 100).detach().numpy()\n",
        "ys = model.weight.data[0,0].item() * xs + model.weight.data[0, 1].item()\n",
        "plt.plot(xs, ys, color = 'black', linewidth = 5)\n",
        "\n",
        "plt.ylim([-10, 10])\n",
        "plt.xlim([-10, 10])"
      ]
    },
    {
      "cell_type": "markdown",
      "metadata": {
        "id": "xe7a6dsWFMOI"
      },
      "source": [
        "## Compare the weights discovered by gradient descent to the weights according to the analytical solution for the problem\n",
        "* you need the formula $ (X^T X)^{-1}X^Ty $\n",
        "* **hint:** use `@` for tensor multiplication"
      ]
    },
    {
      "cell_type": "code",
      "execution_count": null,
      "metadata": {
        "id": "m_fQVSOfhZzx",
        "pycharm": {
          "name": "#%%\n"
        }
      },
      "outputs": [],
      "source": []
    }
  ],
  "metadata": {
    "colab": {
      "provenance": [],
      "include_colab_link": true
    },
    "kernelspec": {
      "display_name": "Python 3 (ipykernel)",
      "language": "python",
      "name": "python3"
    },
    "language_info": {
      "codemirror_mode": {
        "name": "ipython",
        "version": 3
      },
      "file_extension": ".py",
      "mimetype": "text/x-python",
      "name": "python",
      "nbconvert_exporter": "python",
      "pygments_lexer": "ipython3",
      "version": "3.9.1"
    }
  },
  "nbformat": 4,
  "nbformat_minor": 0
}